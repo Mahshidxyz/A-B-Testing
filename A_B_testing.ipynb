{
 "cells": [
  {
   "cell_type": "markdown",
   "metadata": {},
   "source": [
    "# A/B testing for adding an extra step to a free trial registration\n",
    "\n",
    "[mahshidxyz](http://www.github.com/mahshidxyz)\n",
    "\n",
    "July 2020\n",
    "\n",
    "This is my solution for the Udacity A/B testing course final project ([link](https://docs.google.com/document/u/1/d/1aCquhIqsUApgsxQ8-SQBAigFDcfWVVohLEXcV6jWbdI/pub?embedded=false)) \n",
    "\n",
    "---\n",
    "\n",
    "\n",
    "\n",
    "\n",
    "## Experiment Overview\n",
    "\n",
    "At the time of this experiment, Udacity courses had two options on the course overview page: \"start free trial\", and \"access course materials\". If the student clicks \"start free trial\", they will be asked to enter their credit card information, and then they will be enrolled in a free trial for the paid version of the course. After 14 days, they will automatically be charged unless they cancel first. If the student clicks \"access course materials\", they will be able to view the videos and take the quizzes for free, but they will not receive coaching support or a verified certificate, and they will not submit their final project for feedback.\n",
    "\n",
    "**Hypothesis:** In the experiment, Udacity tested a change where if the student clicked \"start free trial\", they were asked how much time they had available to devote to the course. If the student indicated 5 or more hours per week, they would be taken through the checkout process as usual. If they indicated fewer than 5 hours per week, a message would appear indicating that Udacity courses usually require a greater time commitment for successful completion, and suggesting that the student might like to access the course materials for free. At this point, the student would have the option to continue enrolling in the free trial, or access the course materials for free instead.\n",
    "\n",
    "The hypothesis was that this might set clearer expectations for students upfront, thus reducing the number of frustrated students who left the free trial because they didn't have enough time without significantly reducing the number of students to continue past the free trial and eventually complete the course. If this hypothesis held true, Udacity could improve the overall student experience and improve coaches' capacity to support students who are likely to complete the course.\n",
    "\n",
    "**Unit of diversion:** The unit of diversion is a cookie, although if the student enrolls in the free trial, they are tracked by user-id from that point forward. The same user-id cannot enroll in the free trial twice. For users that do not enroll, their user-id is not tracked in the experiment, even if they were signed in when they visited the course overview page.\n",
    "\n"
   ]
  },
  {
   "cell_type": "markdown",
   "metadata": {},
   "source": [
    "## Experiment Design"
   ]
  },
  {
   "cell_type": "markdown",
   "metadata": {},
   "source": [
    "### Selection of Invariant Metrics\n",
    "We use invariant metrics for sanity check. We expect the invariant metrics not to differ drastically between the control and experiment groups otherwise the randomization process was not done properly. Here are the invariant metrics that I have selected for this problem from the metrics pool:\n",
    "\n",
    "- **Number of cookies** - That is, number of unique cookies to view the course overview page.\n",
    "- **Number of clicks** - That is, number of unique cookies to click the \"Start free trial\" button (which happens before the free trial screener is trigger).\n",
    "- **Click-through-probability** - That is, number of unique cookies to click the \"Start free trial\" button divided by number of unique cookies to view the course overview page.\n"
   ]
  },
  {
   "cell_type": "markdown",
   "metadata": {},
   "source": [
    "### Selection of Evaluation Metrics\n",
    "These are the metrics that we study to observe a change in. Each evaluation metric has an associated absolute $d_{min}$ value (here given by Udacity) which indicates the practical significant change. Changes smaller than $d_{min}$ are not significant for the business. These are the evaluation metrics that I have selected from the metrics pool:\n",
    "- **Gross conversion** - That is, number of user-ids to complete checkout and enroll in the free trial divided by number of unique cookies to click the \"Start free trial\" button. ($d_{min}$= 0.01)\n",
    "- **Retention** - That is, number of user-ids to remain enrolled past the 14-day boundary (and thus make at least one payment) divided by number of user-ids to complete checkout. ($d_{min}$=0.01)\n",
    "- **Net conversion** - That is, number of user-ids to remain enrolled past the 14-day boundary (and thus make at least one payment) divided by the number of unique cookies to click the \"Start free trial\" button. ($d_{min}$= 0.0075)"
   ]
  },
  {
   "cell_type": "markdown",
   "metadata": {},
   "source": [
    "### Baseline Values of Metrics and Variability\n",
    "\n",
    "Udacity provided the following estimates for these metrics [here](https://docs.google.com/spreadsheets/d/1MYNUtC47Pg8hdoCjOXaHqF-thheGpUshrFA21BAJnNc/edit#gid=0), presumably calculated from aggregated data on daily traffic on a monitoring campaign. I have scaled the values for 5000 cookies visiting the course overview page per day as requested to calculate the standard deviation.\n",
    "\n",
    "| Item | Description | Estimated (baseline) | Scaled for 5000 daily cookies \n",
    "| :- | :- | :- |\n",
    "| Number of cookies | Daily unique cookies to view course overview page | 40,000 | 5,000 |\n",
    "| Number of clicks | Daily unique cookies to click Free Trial button | 3,200 | 400 |\n",
    "| Number of enrollments | Free Trial enrollments per day | 660 | 82.5 |\n",
    "| CTP |\tCTP on Free Trial button | 0.08 | 0.08 |\n",
    "| Gross Conversion | Probability of enrolling, given a click | 0.20625 | 0.20625 |\n",
    "| Retention | Probability of payment, given enrollment | 0.53 | 0.53 |\n",
    "| Net Conversion | Probability of payment, given click | 0.109313 | 0.109313 |\n"
   ]
  },
  {
   "cell_type": "markdown",
   "metadata": {},
   "source": [
    "#### Estimating Standard Deviation for Evaluation Metrics for a sample size of 5000 \n",
    "\n",
    "Assuming our evaluation metrics are probabilities that are binomially distributed, we can analytically estimate the standard deviation using the binomial standard deviation:\n",
    "\n",
    "\\begin{equation*} SD = \\sqrt{\\frac{p(1-p)}{n}} \\end{equation*}\n",
    "\n",
    "Where $p$ is the probability and $n$ is the sample size. When the unit of diversion in the experiment is not equal to the unit of analysis (the denominator of the metric formula), variance might be different and we need to estimate it empirically. Here unit of diversions and the denominator are cookies for Gross Conversion and Net Conversion; therefore, analytical estimation is good. However, for the Retention metric the denominator of the metric (unit of analysis) is enrolled users while the unit of diversion is cookie. Therefore, if the data was provided it would be best to calculate the variability of the retention metric empirically.\n",
    "\n"
   ]
  },
  {
   "cell_type": "code",
   "execution_count": 1,
   "metadata": {},
   "outputs": [
    {
     "name": "stdout",
     "output_type": "stream",
     "text": [
      "Analytical std for Gross Conversion (n= 5,000): 0.020230604137049392\n",
      "Analytical std for Retention (n=5,000): 0.05494901217850908\n",
      "Analytical std for Net Conversion (n=5,000): 0.015601575884425905\n"
     ]
    }
   ],
   "source": [
    "# standard deviation of the evaluation metrics for a sample size of 5000\n",
    "\n",
    "import math\n",
    "\n",
    "def std_binomial(p, n):\n",
    "    return math.sqrt((p * (1 - p))/n)\n",
    "\n",
    "print ('Analytical std for Gross Conversion (n= 5,000): {}'.format(std_binomial(0.20625, 400)))\n",
    "print ('Analytical std for Retention (n=5,000): {}'.format(std_binomial(0.53, 82.5)))\n",
    "print ('Analytical std for Net Conversion (n=5,000): {}'.format(std_binomial(0.109313, 400)))"
   ]
  },
  {
   "cell_type": "markdown",
   "metadata": {},
   "source": [
    "## Experiment Sizing"
   ]
  },
  {
   "cell_type": "markdown",
   "metadata": {},
   "source": [
    "### Choosing Number of Samples given Power"
   ]
  },
  {
   "cell_type": "markdown",
   "metadata": {},
   "source": [
    "Given statistical power ($1 - \\beta$), significance level ($\\alpha$), the detectable effect d ($H_0$ : $p_{cont}-p_{exp}=0$ and $H_A$ : $p_{cont}-p_{exp}=d$), and baseline conversion rate $p$, the minimum number of samples needed for an experiment can be calculated as follows:\n",
    "\n",
    "\\begin{equation*}\n",
    "n = \\frac{(Z_{1-\\frac{\\alpha}{2}}sd_1 + Z_{1 - \\beta} sd_2)^2}{d^2}\n",
    "\\end{equation*}\n",
    "\n",
    "Where:\n",
    "\n",
    "$sd_1 = \\sqrt{p(1 - p) + p(1 - p)}$ and $sd_2 = \\sqrt{p(1 - p) + (p + d)(1 - (p + d))}$\n",
    "\n",
    " \n",
    "The standard deviations can be calculated analytically using binomial distribution formula and the Z score can be read from normal distribution using $1 - \\frac{\\alpha}{2}$ and for $1 - \\beta$. Alternatively, an online [calculator](http://www.evanmiller.org/ab-testing/sample-size.html) can be used to calculate the sample sizes. \n",
    "\n",
    "Note that these calculations are based on the assumption that probabilities follow binomial distribution and binomial distribution is approximated with a normal distribution for a large n.\n",
    "\n",
    "After calculating the required sample size, using the click per pageview or enrollment per page view, the required pageviews have been calculated. If we were to keep all the three metrics, 4,737,818 pageviews, is the minimum number of pageviews needed for this experiment. However, given the daily traffic of 40,000 pageviews, it would take approximately 119 days to complete the experiment at 100% traffic which is not reasonable. Therefore, I will drop the Retention metric. "
   ]
  },
  {
   "cell_type": "code",
   "execution_count": 2,
   "metadata": {},
   "outputs": [
    {
     "name": "stdout",
     "output_type": "stream",
     "text": [
      "Sample size per variation for Gross Conversion metric: 25835\n",
      "Sample size per variation for Retention metric: 39087\n",
      "Sample size per variation for Net Conversion metric: 27413\n"
     ]
    }
   ],
   "source": [
    "# helper functions and sample size calculations:\n",
    "from scipy.stats import norm\n",
    "\n",
    "def get_z_score(alpha):\n",
    "    return norm.ppf(alpha)\n",
    "\n",
    "def get_sds(p,d):\n",
    "    ''' returns two standard deviations for null and alternative hypothesis distributions'''\n",
    "    sd1=math.sqrt(2*p*(1-p))\n",
    "    sd2=math.sqrt(p*(1-p)+(p+d)*(1-(p+d)))\n",
    "    sds=[sd1,sd2]\n",
    "    return sds\n",
    "\n",
    "def get_sample_size(sds,alpha,beta,d):\n",
    "    n=(get_z_score(1-alpha/2)*sds[0]+get_z_score(1-beta)*sds[1])**2/d**2\n",
    "    return n\n",
    "\n",
    "print ('Sample size per variation for Gross Conversion metric: {}'\n",
    "       .format(int(round(get_sample_size(get_sds(0.20625,0.01),0.05,0.2,0.01)))))\n",
    "print ('Sample size per variation for Retention metric: {}'\n",
    "       .format(int(round(get_sample_size(get_sds(0.53,0.01),0.05,0.2,0.01)))))\n",
    "print ('Sample size per variation for Net Conversion metric: {}'\n",
    "       .format(int(round(get_sample_size(get_sds(0.109313,0.0075),0.05,0.2,0.0075)))))"
   ]
  },
  {
   "cell_type": "markdown",
   "metadata": {},
   "source": [
    "|  Metric | Gross Conversion | Retention | Net Conversion |\n",
    "| :- | :- | :- | :- |  \n",
    "| Baseline | 0.20625 | 0.53 | 0.109313 |\n",
    "| $d_{min}$  | 0.01 | 0.01 | 0.0075 |\n",
    "| Sample size per variation | 25,835 | 39,087 | 27,413 |\n",
    "| Total sample size | 2x25,835 = 51,670 | 2x39,087 = 78,174 | 2x25,835 = 54,826 |\n",
    "| Clicks/enrollments/clicks per pageview  | 3,200/40,000 = 0.08 | 660/40,000 = 0.0165 | 3,200/40,000 = 0.08 |\n",
    "| **Required Pageviews** | **645,875** | **4,737,818** | **685,325** |"
   ]
  },
  {
   "cell_type": "markdown",
   "metadata": {},
   "source": [
    "### Duration vs. Exposure"
   ]
  },
  {
   "cell_type": "markdown",
   "metadata": {},
   "source": [
    "Assuming there were no other experiments that we want to run simultaneously, we can divert 100% of the daily traffic to this test (50% control and 50% experiment). The change is not risky enough to keep us from applying it to 50% of the traffic.\n",
    "\n",
    "With 685,325 required page views and 40,000 daily traffic, the duration of the experiment would be 18 days at 100% traffic. I would round up this number to 3 weeks to include the possible weekly cycles of conversion."
   ]
  },
  {
   "cell_type": "markdown",
   "metadata": {},
   "source": [
    "## Experiment Analysis\n",
    "\n",
    "### Data cleaning"
   ]
  },
  {
   "cell_type": "markdown",
   "metadata": {},
   "source": [
    "Let's load the datasets first. The experiment was run for 37 days but since the enrollment and payment data of the last 14 days is missing I will remove those rows from the tables. We end up with the test data for 23 consecutive days which is more than the required 21 days duration calculated in the previous section."
   ]
  },
  {
   "cell_type": "code",
   "execution_count": 3,
   "metadata": {},
   "outputs": [
    {
     "data": {
      "text/html": [
       "<div>\n",
       "<style scoped>\n",
       "    .dataframe tbody tr th:only-of-type {\n",
       "        vertical-align: middle;\n",
       "    }\n",
       "\n",
       "    .dataframe tbody tr th {\n",
       "        vertical-align: top;\n",
       "    }\n",
       "\n",
       "    .dataframe thead th {\n",
       "        text-align: right;\n",
       "    }\n",
       "</style>\n",
       "<table border=\"1\" class=\"dataframe\">\n",
       "  <thead>\n",
       "    <tr style=\"text-align: right;\">\n",
       "      <th></th>\n",
       "      <th>Date</th>\n",
       "      <th>Pageviews</th>\n",
       "      <th>Clicks</th>\n",
       "      <th>Enrollments</th>\n",
       "      <th>Payments</th>\n",
       "    </tr>\n",
       "  </thead>\n",
       "  <tbody>\n",
       "    <tr>\n",
       "      <th>0</th>\n",
       "      <td>Sat, Oct 11</td>\n",
       "      <td>7723</td>\n",
       "      <td>687</td>\n",
       "      <td>134.0</td>\n",
       "      <td>70.0</td>\n",
       "    </tr>\n",
       "    <tr>\n",
       "      <th>1</th>\n",
       "      <td>Sun, Oct 12</td>\n",
       "      <td>9102</td>\n",
       "      <td>779</td>\n",
       "      <td>147.0</td>\n",
       "      <td>70.0</td>\n",
       "    </tr>\n",
       "    <tr>\n",
       "      <th>2</th>\n",
       "      <td>Mon, Oct 13</td>\n",
       "      <td>10511</td>\n",
       "      <td>909</td>\n",
       "      <td>167.0</td>\n",
       "      <td>95.0</td>\n",
       "    </tr>\n",
       "    <tr>\n",
       "      <th>3</th>\n",
       "      <td>Tue, Oct 14</td>\n",
       "      <td>9871</td>\n",
       "      <td>836</td>\n",
       "      <td>156.0</td>\n",
       "      <td>105.0</td>\n",
       "    </tr>\n",
       "    <tr>\n",
       "      <th>4</th>\n",
       "      <td>Wed, Oct 15</td>\n",
       "      <td>10014</td>\n",
       "      <td>837</td>\n",
       "      <td>163.0</td>\n",
       "      <td>64.0</td>\n",
       "    </tr>\n",
       "  </tbody>\n",
       "</table>\n",
       "</div>"
      ],
      "text/plain": [
       "          Date  Pageviews  Clicks  Enrollments  Payments\n",
       "0  Sat, Oct 11       7723     687        134.0      70.0\n",
       "1  Sun, Oct 12       9102     779        147.0      70.0\n",
       "2  Mon, Oct 13      10511     909        167.0      95.0\n",
       "3  Tue, Oct 14       9871     836        156.0     105.0\n",
       "4  Wed, Oct 15      10014     837        163.0      64.0"
      ]
     },
     "execution_count": 3,
     "metadata": {},
     "output_type": "execute_result"
    }
   ],
   "source": [
    "import pandas as pd\n",
    "control = pd.read_csv(\"control_data.csv\")\n",
    "control.head()"
   ]
  },
  {
   "cell_type": "code",
   "execution_count": 4,
   "metadata": {},
   "outputs": [
    {
     "data": {
      "text/html": [
       "<div>\n",
       "<style scoped>\n",
       "    .dataframe tbody tr th:only-of-type {\n",
       "        vertical-align: middle;\n",
       "    }\n",
       "\n",
       "    .dataframe tbody tr th {\n",
       "        vertical-align: top;\n",
       "    }\n",
       "\n",
       "    .dataframe thead th {\n",
       "        text-align: right;\n",
       "    }\n",
       "</style>\n",
       "<table border=\"1\" class=\"dataframe\">\n",
       "  <thead>\n",
       "    <tr style=\"text-align: right;\">\n",
       "      <th></th>\n",
       "      <th>Date</th>\n",
       "      <th>Pageviews</th>\n",
       "      <th>Clicks</th>\n",
       "      <th>Enrollments</th>\n",
       "      <th>Payments</th>\n",
       "    </tr>\n",
       "  </thead>\n",
       "  <tbody>\n",
       "    <tr>\n",
       "      <th>32</th>\n",
       "      <td>Wed, Nov 12</td>\n",
       "      <td>10134</td>\n",
       "      <td>801</td>\n",
       "      <td>NaN</td>\n",
       "      <td>NaN</td>\n",
       "    </tr>\n",
       "    <tr>\n",
       "      <th>33</th>\n",
       "      <td>Thu, Nov 13</td>\n",
       "      <td>9717</td>\n",
       "      <td>814</td>\n",
       "      <td>NaN</td>\n",
       "      <td>NaN</td>\n",
       "    </tr>\n",
       "    <tr>\n",
       "      <th>34</th>\n",
       "      <td>Fri, Nov 14</td>\n",
       "      <td>9192</td>\n",
       "      <td>735</td>\n",
       "      <td>NaN</td>\n",
       "      <td>NaN</td>\n",
       "    </tr>\n",
       "    <tr>\n",
       "      <th>35</th>\n",
       "      <td>Sat, Nov 15</td>\n",
       "      <td>8630</td>\n",
       "      <td>743</td>\n",
       "      <td>NaN</td>\n",
       "      <td>NaN</td>\n",
       "    </tr>\n",
       "    <tr>\n",
       "      <th>36</th>\n",
       "      <td>Sun, Nov 16</td>\n",
       "      <td>8970</td>\n",
       "      <td>722</td>\n",
       "      <td>NaN</td>\n",
       "      <td>NaN</td>\n",
       "    </tr>\n",
       "  </tbody>\n",
       "</table>\n",
       "</div>"
      ],
      "text/plain": [
       "           Date  Pageviews  Clicks  Enrollments  Payments\n",
       "32  Wed, Nov 12      10134     801          NaN       NaN\n",
       "33  Thu, Nov 13       9717     814          NaN       NaN\n",
       "34  Fri, Nov 14       9192     735          NaN       NaN\n",
       "35  Sat, Nov 15       8630     743          NaN       NaN\n",
       "36  Sun, Nov 16       8970     722          NaN       NaN"
      ]
     },
     "execution_count": 4,
     "metadata": {},
     "output_type": "execute_result"
    }
   ],
   "source": [
    "control.tail()"
   ]
  },
  {
   "cell_type": "code",
   "execution_count": 5,
   "metadata": {},
   "outputs": [
    {
     "data": {
      "text/html": [
       "<div>\n",
       "<style scoped>\n",
       "    .dataframe tbody tr th:only-of-type {\n",
       "        vertical-align: middle;\n",
       "    }\n",
       "\n",
       "    .dataframe tbody tr th {\n",
       "        vertical-align: top;\n",
       "    }\n",
       "\n",
       "    .dataframe thead th {\n",
       "        text-align: right;\n",
       "    }\n",
       "</style>\n",
       "<table border=\"1\" class=\"dataframe\">\n",
       "  <thead>\n",
       "    <tr style=\"text-align: right;\">\n",
       "      <th></th>\n",
       "      <th>Date</th>\n",
       "      <th>Pageviews</th>\n",
       "      <th>Clicks</th>\n",
       "      <th>Enrollments</th>\n",
       "      <th>Payments</th>\n",
       "    </tr>\n",
       "  </thead>\n",
       "  <tbody>\n",
       "    <tr>\n",
       "      <th>0</th>\n",
       "      <td>Sat, Oct 11</td>\n",
       "      <td>7716</td>\n",
       "      <td>686</td>\n",
       "      <td>105.0</td>\n",
       "      <td>34.0</td>\n",
       "    </tr>\n",
       "    <tr>\n",
       "      <th>1</th>\n",
       "      <td>Sun, Oct 12</td>\n",
       "      <td>9288</td>\n",
       "      <td>785</td>\n",
       "      <td>116.0</td>\n",
       "      <td>91.0</td>\n",
       "    </tr>\n",
       "    <tr>\n",
       "      <th>2</th>\n",
       "      <td>Mon, Oct 13</td>\n",
       "      <td>10480</td>\n",
       "      <td>884</td>\n",
       "      <td>145.0</td>\n",
       "      <td>79.0</td>\n",
       "    </tr>\n",
       "    <tr>\n",
       "      <th>3</th>\n",
       "      <td>Tue, Oct 14</td>\n",
       "      <td>9867</td>\n",
       "      <td>827</td>\n",
       "      <td>138.0</td>\n",
       "      <td>92.0</td>\n",
       "    </tr>\n",
       "    <tr>\n",
       "      <th>4</th>\n",
       "      <td>Wed, Oct 15</td>\n",
       "      <td>9793</td>\n",
       "      <td>832</td>\n",
       "      <td>140.0</td>\n",
       "      <td>94.0</td>\n",
       "    </tr>\n",
       "  </tbody>\n",
       "</table>\n",
       "</div>"
      ],
      "text/plain": [
       "          Date  Pageviews  Clicks  Enrollments  Payments\n",
       "0  Sat, Oct 11       7716     686        105.0      34.0\n",
       "1  Sun, Oct 12       9288     785        116.0      91.0\n",
       "2  Mon, Oct 13      10480     884        145.0      79.0\n",
       "3  Tue, Oct 14       9867     827        138.0      92.0\n",
       "4  Wed, Oct 15       9793     832        140.0      94.0"
      ]
     },
     "execution_count": 5,
     "metadata": {},
     "output_type": "execute_result"
    }
   ],
   "source": [
    "experiment = pd.read_csv(\"experiment_data.csv\")\n",
    "experiment.head()"
   ]
  },
  {
   "cell_type": "code",
   "execution_count": 6,
   "metadata": {},
   "outputs": [
    {
     "name": "stdout",
     "output_type": "stream",
     "text": [
      "<class 'pandas.core.frame.DataFrame'>\n",
      "RangeIndex: 37 entries, 0 to 36\n",
      "Data columns (total 5 columns):\n",
      "Date           37 non-null object\n",
      "Pageviews      37 non-null int64\n",
      "Clicks         37 non-null int64\n",
      "Enrollments    23 non-null float64\n",
      "Payments       23 non-null float64\n",
      "dtypes: float64(2), int64(2), object(1)\n",
      "memory usage: 1.5+ KB\n"
     ]
    }
   ],
   "source": [
    "control.info()"
   ]
  },
  {
   "cell_type": "code",
   "execution_count": 7,
   "metadata": {},
   "outputs": [
    {
     "name": "stdout",
     "output_type": "stream",
     "text": [
      "<class 'pandas.core.frame.DataFrame'>\n",
      "RangeIndex: 37 entries, 0 to 36\n",
      "Data columns (total 5 columns):\n",
      "Date           37 non-null object\n",
      "Pageviews      37 non-null int64\n",
      "Clicks         37 non-null int64\n",
      "Enrollments    23 non-null float64\n",
      "Payments       23 non-null float64\n",
      "dtypes: float64(2), int64(2), object(1)\n",
      "memory usage: 1.5+ KB\n"
     ]
    }
   ],
   "source": [
    "experiment.info()"
   ]
  },
  {
   "cell_type": "code",
   "execution_count": 8,
   "metadata": {},
   "outputs": [],
   "source": [
    "# dropping the rows with null value\n",
    "control.dropna(inplace=True)\n",
    "experiment.dropna(inplace=True)"
   ]
  },
  {
   "cell_type": "code",
   "execution_count": 9,
   "metadata": {},
   "outputs": [
    {
     "data": {
      "text/html": [
       "<div>\n",
       "<style scoped>\n",
       "    .dataframe tbody tr th:only-of-type {\n",
       "        vertical-align: middle;\n",
       "    }\n",
       "\n",
       "    .dataframe tbody tr th {\n",
       "        vertical-align: top;\n",
       "    }\n",
       "\n",
       "    .dataframe thead th {\n",
       "        text-align: right;\n",
       "    }\n",
       "</style>\n",
       "<table border=\"1\" class=\"dataframe\">\n",
       "  <thead>\n",
       "    <tr style=\"text-align: right;\">\n",
       "      <th></th>\n",
       "      <th>Date</th>\n",
       "      <th>Pageviews</th>\n",
       "      <th>Clicks</th>\n",
       "      <th>Enrollments</th>\n",
       "      <th>Payments</th>\n",
       "    </tr>\n",
       "  </thead>\n",
       "  <tbody>\n",
       "    <tr>\n",
       "      <th>0</th>\n",
       "      <td>Sat, Oct 11</td>\n",
       "      <td>7723</td>\n",
       "      <td>687</td>\n",
       "      <td>134.0</td>\n",
       "      <td>70.0</td>\n",
       "    </tr>\n",
       "    <tr>\n",
       "      <th>1</th>\n",
       "      <td>Sun, Oct 12</td>\n",
       "      <td>9102</td>\n",
       "      <td>779</td>\n",
       "      <td>147.0</td>\n",
       "      <td>70.0</td>\n",
       "    </tr>\n",
       "    <tr>\n",
       "      <th>2</th>\n",
       "      <td>Mon, Oct 13</td>\n",
       "      <td>10511</td>\n",
       "      <td>909</td>\n",
       "      <td>167.0</td>\n",
       "      <td>95.0</td>\n",
       "    </tr>\n",
       "    <tr>\n",
       "      <th>3</th>\n",
       "      <td>Tue, Oct 14</td>\n",
       "      <td>9871</td>\n",
       "      <td>836</td>\n",
       "      <td>156.0</td>\n",
       "      <td>105.0</td>\n",
       "    </tr>\n",
       "    <tr>\n",
       "      <th>4</th>\n",
       "      <td>Wed, Oct 15</td>\n",
       "      <td>10014</td>\n",
       "      <td>837</td>\n",
       "      <td>163.0</td>\n",
       "      <td>64.0</td>\n",
       "    </tr>\n",
       "    <tr>\n",
       "      <th>5</th>\n",
       "      <td>Thu, Oct 16</td>\n",
       "      <td>9670</td>\n",
       "      <td>823</td>\n",
       "      <td>138.0</td>\n",
       "      <td>82.0</td>\n",
       "    </tr>\n",
       "    <tr>\n",
       "      <th>6</th>\n",
       "      <td>Fri, Oct 17</td>\n",
       "      <td>9008</td>\n",
       "      <td>748</td>\n",
       "      <td>146.0</td>\n",
       "      <td>76.0</td>\n",
       "    </tr>\n",
       "    <tr>\n",
       "      <th>7</th>\n",
       "      <td>Sat, Oct 18</td>\n",
       "      <td>7434</td>\n",
       "      <td>632</td>\n",
       "      <td>110.0</td>\n",
       "      <td>70.0</td>\n",
       "    </tr>\n",
       "    <tr>\n",
       "      <th>8</th>\n",
       "      <td>Sun, Oct 19</td>\n",
       "      <td>8459</td>\n",
       "      <td>691</td>\n",
       "      <td>131.0</td>\n",
       "      <td>60.0</td>\n",
       "    </tr>\n",
       "    <tr>\n",
       "      <th>9</th>\n",
       "      <td>Mon, Oct 20</td>\n",
       "      <td>10667</td>\n",
       "      <td>861</td>\n",
       "      <td>165.0</td>\n",
       "      <td>97.0</td>\n",
       "    </tr>\n",
       "    <tr>\n",
       "      <th>10</th>\n",
       "      <td>Tue, Oct 21</td>\n",
       "      <td>10660</td>\n",
       "      <td>867</td>\n",
       "      <td>196.0</td>\n",
       "      <td>105.0</td>\n",
       "    </tr>\n",
       "    <tr>\n",
       "      <th>11</th>\n",
       "      <td>Wed, Oct 22</td>\n",
       "      <td>9947</td>\n",
       "      <td>838</td>\n",
       "      <td>162.0</td>\n",
       "      <td>92.0</td>\n",
       "    </tr>\n",
       "    <tr>\n",
       "      <th>12</th>\n",
       "      <td>Thu, Oct 23</td>\n",
       "      <td>8324</td>\n",
       "      <td>665</td>\n",
       "      <td>127.0</td>\n",
       "      <td>56.0</td>\n",
       "    </tr>\n",
       "    <tr>\n",
       "      <th>13</th>\n",
       "      <td>Fri, Oct 24</td>\n",
       "      <td>9434</td>\n",
       "      <td>673</td>\n",
       "      <td>220.0</td>\n",
       "      <td>122.0</td>\n",
       "    </tr>\n",
       "    <tr>\n",
       "      <th>14</th>\n",
       "      <td>Sat, Oct 25</td>\n",
       "      <td>8687</td>\n",
       "      <td>691</td>\n",
       "      <td>176.0</td>\n",
       "      <td>128.0</td>\n",
       "    </tr>\n",
       "    <tr>\n",
       "      <th>15</th>\n",
       "      <td>Sun, Oct 26</td>\n",
       "      <td>8896</td>\n",
       "      <td>708</td>\n",
       "      <td>161.0</td>\n",
       "      <td>104.0</td>\n",
       "    </tr>\n",
       "    <tr>\n",
       "      <th>16</th>\n",
       "      <td>Mon, Oct 27</td>\n",
       "      <td>9535</td>\n",
       "      <td>759</td>\n",
       "      <td>233.0</td>\n",
       "      <td>124.0</td>\n",
       "    </tr>\n",
       "    <tr>\n",
       "      <th>17</th>\n",
       "      <td>Tue, Oct 28</td>\n",
       "      <td>9363</td>\n",
       "      <td>736</td>\n",
       "      <td>154.0</td>\n",
       "      <td>91.0</td>\n",
       "    </tr>\n",
       "    <tr>\n",
       "      <th>18</th>\n",
       "      <td>Wed, Oct 29</td>\n",
       "      <td>9327</td>\n",
       "      <td>739</td>\n",
       "      <td>196.0</td>\n",
       "      <td>86.0</td>\n",
       "    </tr>\n",
       "    <tr>\n",
       "      <th>19</th>\n",
       "      <td>Thu, Oct 30</td>\n",
       "      <td>9345</td>\n",
       "      <td>734</td>\n",
       "      <td>167.0</td>\n",
       "      <td>75.0</td>\n",
       "    </tr>\n",
       "    <tr>\n",
       "      <th>20</th>\n",
       "      <td>Fri, Oct 31</td>\n",
       "      <td>8890</td>\n",
       "      <td>706</td>\n",
       "      <td>174.0</td>\n",
       "      <td>101.0</td>\n",
       "    </tr>\n",
       "    <tr>\n",
       "      <th>21</th>\n",
       "      <td>Sat, Nov 1</td>\n",
       "      <td>8460</td>\n",
       "      <td>681</td>\n",
       "      <td>156.0</td>\n",
       "      <td>93.0</td>\n",
       "    </tr>\n",
       "    <tr>\n",
       "      <th>22</th>\n",
       "      <td>Sun, Nov 2</td>\n",
       "      <td>8836</td>\n",
       "      <td>693</td>\n",
       "      <td>206.0</td>\n",
       "      <td>67.0</td>\n",
       "    </tr>\n",
       "  </tbody>\n",
       "</table>\n",
       "</div>"
      ],
      "text/plain": [
       "           Date  Pageviews  Clicks  Enrollments  Payments\n",
       "0   Sat, Oct 11       7723     687        134.0      70.0\n",
       "1   Sun, Oct 12       9102     779        147.0      70.0\n",
       "2   Mon, Oct 13      10511     909        167.0      95.0\n",
       "3   Tue, Oct 14       9871     836        156.0     105.0\n",
       "4   Wed, Oct 15      10014     837        163.0      64.0\n",
       "5   Thu, Oct 16       9670     823        138.0      82.0\n",
       "6   Fri, Oct 17       9008     748        146.0      76.0\n",
       "7   Sat, Oct 18       7434     632        110.0      70.0\n",
       "8   Sun, Oct 19       8459     691        131.0      60.0\n",
       "9   Mon, Oct 20      10667     861        165.0      97.0\n",
       "10  Tue, Oct 21      10660     867        196.0     105.0\n",
       "11  Wed, Oct 22       9947     838        162.0      92.0\n",
       "12  Thu, Oct 23       8324     665        127.0      56.0\n",
       "13  Fri, Oct 24       9434     673        220.0     122.0\n",
       "14  Sat, Oct 25       8687     691        176.0     128.0\n",
       "15  Sun, Oct 26       8896     708        161.0     104.0\n",
       "16  Mon, Oct 27       9535     759        233.0     124.0\n",
       "17  Tue, Oct 28       9363     736        154.0      91.0\n",
       "18  Wed, Oct 29       9327     739        196.0      86.0\n",
       "19  Thu, Oct 30       9345     734        167.0      75.0\n",
       "20  Fri, Oct 31       8890     706        174.0     101.0\n",
       "21   Sat, Nov 1       8460     681        156.0      93.0\n",
       "22   Sun, Nov 2       8836     693        206.0      67.0"
      ]
     },
     "execution_count": 9,
     "metadata": {},
     "output_type": "execute_result"
    }
   ],
   "source": [
    "#cleaned data\n",
    "control"
   ]
  },
  {
   "cell_type": "markdown",
   "metadata": {},
   "source": [
    "### Sanity Checks"
   ]
  },
  {
   "cell_type": "markdown",
   "metadata": {},
   "source": [
    "For sanity checks first I will look at the daily flactuations over the duration of test to make sure there are no anomalies. Then, I will look at our selected invariant metrics: number of cookies, number of clicks, CTP. "
   ]
  },
  {
   "cell_type": "markdown",
   "metadata": {},
   "source": [
    "#### Daily variations\n",
    "The trends seems to be reasonable without any large spike over the course of the test."
   ]
  },
  {
   "cell_type": "code",
   "execution_count": 10,
   "metadata": {
    "scrolled": true
   },
   "outputs": [],
   "source": [
    "import matplotlib.pyplot as plt\n",
    "_ = control.plot()\n",
    "_ = plt.title('Daily variations in the contorl group over the duration of the experiment')\n",
    "_ = plt.xlabel('Day')\n",
    "_ = plt.ylabel('Counts')"
   ]
  },
  {
   "cell_type": "code",
   "execution_count": 11,
   "metadata": {},
   "outputs": [
    {
     "data": {
      "image/png": "[encoded data removed]",
      "text/plain": [
       "<matplotlib.figure.Figure at 0x1e035242cc0>"
      ]
     },
     "metadata": {},
     "output_type": "display_data"
    }
   ],
   "source": [
    "_ = experiment.plot()\n",
    "_ = plt.title('Daily variations in the experiment group over the duration of the experiment')\n",
    "_ = plt.xlabel('Day')\n",
    "_ = plt.ylabel('Counts')"
   ]
  },
  {
   "cell_type": "code",
   "execution_count": 12,
   "metadata": {},
   "outputs": [
    {
     "data": {
      "image/png": "[encoded data removed]",
      "text/plain": [
       "<matplotlib.figure.Figure at 0x1e037c83e10>"
      ]
     },
     "metadata": {},
     "output_type": "display_data"
    }
   ],
   "source": [
    "_ = control[['Clicks', 'Enrollments', 'Payments']].plot()\n",
    "_ = plt.title('Zoomed in - daily variations in the control group')\n",
    "_ = plt.xlabel('Day')\n",
    "_ = plt.ylabel('Counts')"
   ]
  },
  {
   "cell_type": "code",
   "execution_count": 13,
   "metadata": {},
   "outputs": [
    {
     "data": {
      "image/png": "[encoded data removed]",
      "text/plain": [
       "<matplotlib.figure.Figure at 0x1e037d18b00>"
      ]
     },
     "metadata": {},
     "output_type": "display_data"
    }
   ],
   "source": [
    "_ = experiment[['Clicks', 'Enrollments', 'Payments']].plot()\n",
    "_ = plt.title('Zoomed in - daily variations in the experiment group')\n",
    "_ = plt.xlabel('Day')\n",
    "_ = plt.ylabel('Counts')"
   ]
  },
  {
   "cell_type": "markdown",
   "metadata": {},
   "source": [
    "#### Invariant metrics"
   ]
  },
  {
   "cell_type": "markdown",
   "metadata": {},
   "source": [
    "##### Number of cookies\n",
    "For an unbiased experiment we expect the difference in the number of cookies for each group to be insignificant."
   ]
  },
  {
   "cell_type": "code",
   "execution_count": 14,
   "metadata": {
    "scrolled": true
   },
   "outputs": [
    {
     "name": "stdout",
     "output_type": "stream",
     "text": [
      "Pageview count for control group: 212163\n",
      "Pageview count for experiment group: 211362\n"
     ]
    }
   ],
   "source": [
    "control_pageviews = control['Pageviews'].sum()\n",
    "print (\"Pageview count for control group: {}\".format(control_pageviews))\n",
    "\n",
    "experiment_pageviews = experiment['Pageviews'].sum()\n",
    "print (\"Pageview count for experiment group: {}\".format(experiment_pageviews))"
   ]
  },
  {
   "cell_type": "markdown",
   "metadata": {},
   "source": [
    "The numbers seem close, but to formally investigate significance, let's use a binomial random variable where success/failure are defined as experiment/control group. The binomial random variable will give us the number of successes we can expect out of N experiments given the probability of a single success (= 50% for random assignment). We can approximate the binomial distribution by the normal distribution when n is large and $np>5$ and $n(1-p)>5$. What we want to test is whether our observed $\\hat{p}$ (number of samples in experiment group divided by total number of samples in both groups) is not significantly different than $p=0.5$ at a 95% confidence level. As long as $\\hat{p}$ is within the CI, it is not significantly different than $p=0.5$ and the test passes.\n",
    "\n",
    "\n",
    "\\begin{equation*} X \\sim N(p,\\sqrt{\\frac{p(1-p)}{N}}) \\end{equation*}\n",
    "\n",
    "\n",
    "\\begin{equation*} ME = Z_{1-\\frac{\\alpha}{2}}*SD \\end{equation*}\n",
    "\n",
    "\\begin{equation*} CI = [\\hat{p} - ME, \\hat{p} + ME] \\end{equation*}"
   ]
  },
  {
   "cell_type": "code",
   "execution_count": 15,
   "metadata": {},
   "outputs": [
    {
     "name": "stdout",
     "output_type": "stream",
     "text": [
      "experiment probability: 0.49905436514963697, expected probability: 0.5, CI = [0.4984941608995543,0.5015058391004458]\n",
      "Sanity check passed. The number of pageviews are not significantly different in the control and experiment groups.\n"
     ]
    }
   ],
   "source": [
    "p = 0.5\n",
    "total_views = control_pageviews + experiment_pageviews\n",
    "p_exp = experiment_pageviews / (total_views)\n",
    "STDEV = std_binomial(p, total_views)\n",
    "\n",
    "# Calculating the 95% confidence interval\n",
    "import scipy.stats as st\n",
    "\n",
    "def conf_interval(p, p_exp, std_dev, alpha):\n",
    "    z_score = st.norm.ppf(1-(alpha/2))\n",
    "    upper = p + z_score*STDEV\n",
    "    lower = p - z_score*STDEV\n",
    "    print ('experiment probability: {}, expected probability: {}, CI = [{},{}]'.format(p_exp, p, lower, upper))\n",
    "    if lower <= p_exp <= upper:\n",
    "        print(\"Sanity check passed. The number of pageviews are not significantly \\\n",
    "different in the control and experiment groups.\")\n",
    "    else:\n",
    "        print(\"The difference in pageviews between the two groups is significant. The experiment is biased!\")\n",
    "    return None\n",
    "\n",
    "conf_interval(p, p_exp, STDEV, 0.05)"
   ]
  },
  {
   "cell_type": "markdown",
   "metadata": {},
   "source": [
    "##### Number of clicks\n",
    "The number of clicks on the free trial button is checked in a similar manner:"
   ]
  },
  {
   "cell_type": "code",
   "execution_count": 16,
   "metadata": {},
   "outputs": [
    {
     "name": "stdout",
     "output_type": "stream",
     "text": [
      "Click count for control group: 17293\n",
      "Click count for experiment group: 17260\n",
      "\n",
      "experiment probability: 0.49905436514963697, expected probability: 0.5, CI = [0.49472800226164687,0.5052719977383531]\n",
      "Sanity check passed. The number of pageviews are not significantly different in the control and experiment groups.\n"
     ]
    }
   ],
   "source": [
    "control_clicks = control['Clicks'].sum()\n",
    "print (\"Click count for control group: {}\".format(control_clicks))\n",
    "\n",
    "experiment_clicks = experiment['Clicks'].sum()\n",
    "print (\"Click count for experiment group: {}\".format(experiment_clicks))\n",
    "\n",
    "print('')\n",
    "p = 0.5\n",
    "total_clicks = control_clicks + experiment_clicks\n",
    "p_exp = experiment_pageviews / (total_views)\n",
    "STDEV = std_binomial(p, total_clicks)\n",
    "conf_interval(p, p_exp, STDEV, 0.05)"
   ]
  },
  {
   "cell_type": "markdown",
   "metadata": {},
   "source": [
    "##### Click Through Probability"
   ]
  },
  {
   "cell_type": "markdown",
   "metadata": {},
   "source": [
    "We need to check if the observed CTP for the two groups are similar. This time we need to calculate a confidence interval around an expected difference of zero using a pooled standard deviation.\n",
    "\n",
    "\n",
    "\\begin{equation*} SD_{pool} = \\sqrt{\\hat{p}_{pool}(1 - \\hat{p}_{pool})(\\frac{1}{N_{cont}} + \\frac{1}{N_{exp}})}\n",
    "\\end{equation*}\n",
    "\n",
    "Where $\\hat{p}_{pool} = \\frac{x_{cont} + x_{exp}}{N_{cont} + N_{exp}}$"
   ]
  },
  {
   "cell_type": "code",
   "execution_count": 17,
   "metadata": {},
   "outputs": [
    {
     "name": "stdout",
     "output_type": "stream",
     "text": [
      "CTP of control group: 0.0815080857642473\n",
      "CTP of experiment group: 0.08166084726677454\n"
     ]
    }
   ],
   "source": [
    "control_CTP = control_clicks / control_pageviews\n",
    "print (\"CTP of control group: {}\".format(control_CTP))\n",
    "\n",
    "experiment_CTP = experiment_clicks / experiment_pageviews\n",
    "print (\"CTP of experiment group: {}\".format(experiment_CTP))"
   ]
  },
  {
   "cell_type": "code",
   "execution_count": 18,
   "metadata": {},
   "outputs": [
    {
     "name": "stdout",
     "output_type": "stream",
     "text": [
      "observed difference between CTPs: 0.0001527615025272433, expected difference in CTPs: 0, CI = [-0.001648778580195615,0.001648778580195615]\n",
      "Sanity check passed. CTPs are not significantly different in the control and experiment groups.\n"
     ]
    }
   ],
   "source": [
    "total_CTP = total_clicks / total_views\n",
    "\n",
    "# Pooled standard deviation:\n",
    "def stdev_pool(prob_pool, num_samples_control, num_samples_experiment):\n",
    "    return math.sqrt(prob_pool * (1 - prob_pool) * (1 / num_samples_control + 1 / num_samples_experiment))\n",
    "\n",
    "STDEV = stdev_pool(total_CTP, control_pageviews, experiment_pageviews)\n",
    "\n",
    "def conf_interval(p, p_exp, std_dev, alpha):\n",
    "    z_score = st.norm.ppf(1-(alpha/2))\n",
    "    upper = p + z_score*STDEV\n",
    "    lower = p - z_score*STDEV\n",
    "    print ('observed difference between CTPs: {}, expected difference in CTPs: {}, CI = [{},{}]'.format(p_exp, p, lower, upper))\n",
    "    if lower <= p_exp <= upper:\n",
    "        print(\"Sanity check passed. CTPs are not significantly different in the control and experiment groups.\")\n",
    "    else:\n",
    "        print(\"The difference in CTPs between the two groups is significant. The experiment is biased!\")\n",
    "    return None\n",
    "\n",
    "conf_interval(0, experiment_CTP - control_CTP , STDEV, 0.05)"
   ]
  },
  {
   "cell_type": "markdown",
   "metadata": {},
   "source": [
    "All of the sanity checks have passed! We can now continue and analyze the results of the experiment."
   ]
  },
  {
   "cell_type": "markdown",
   "metadata": {},
   "source": [
    "### Check for Practical and Statistical Significance of the Effect Sizes\n",
    "We now investigate the size of the differences between the evaluation metrics for the two groups. The two evaluation metrics we chose to move forward with are *Gross Conversion* and *Net Conversion*. In this case, launching the change requires a statistically significant drop in Gross Conversion while Net Conversion does not drop significantly."
   ]
  },
  {
   "cell_type": "markdown",
   "metadata": {},
   "source": [
    "#### Gross Conversion\n",
    "We can conclude the metric is statistically significant if the confidence interval does not include zero. For practical significance, we want the confidence interval to also exclude the practical significance boundary ($d_{min}$ = 0.01)."
   ]
  },
  {
   "cell_type": "code",
   "execution_count": 19,
   "metadata": {},
   "outputs": [
    {
     "name": "stdout",
     "output_type": "stream",
     "text": [
      "Gross Conversion of control group: 0.2188746891805933\n",
      "Gross Conversion of experiment group: 0.19831981460023174\n"
     ]
    }
   ],
   "source": [
    "control_clicks = control['Clicks'].sum()\n",
    "control_enrollments = control['Enrollments'].sum()\n",
    "control_gross_conv = control_enrollments / control_clicks\n",
    "print (\"Gross Conversion of control group: {}\".format(control_gross_conv))\n",
    "\n",
    "experiment_clicks = experiment['Clicks'].sum()\n",
    "experiment_enrollments = experiment['Enrollments'].sum()\n",
    "experiment_gross_conv = experiment_enrollments / experiment_clicks\n",
    "print (\"Gross Conversion of experiment group: {}\".format(experiment_gross_conv))"
   ]
  },
  {
   "cell_type": "markdown",
   "metadata": {},
   "source": [
    "There is a visible difference, let's calculate the confidence interval."
   ]
  },
  {
   "cell_type": "code",
   "execution_count": 20,
   "metadata": {},
   "outputs": [
    {
     "name": "stdout",
     "output_type": "stream",
     "text": [
      "The change in Gross Conversion is: -0.0206%\n",
      "The 95% confidence interval is: [-0.0291, -0.012]\n",
      "The change is statistically significant!\n",
      "The change is also practically significant!\n"
     ]
    }
   ],
   "source": [
    "d_min = 0.01\n",
    "gross_conv_pool = (control_enrollments + experiment_enrollments) / (control_clicks + experiment_clicks)\n",
    "STDEV = stdev_pool(gross_conv_pool, control_clicks, experiment_clicks)\n",
    "gross_conv_diff = experiment_gross_conv - control_gross_conv\n",
    "print(\"The change in Gross Conversion is: {}%\".format(round(gross_conv_diff, 4)))\n",
    "\n",
    "# Calculating the 95% confidence interval\n",
    "def conf_interval(prob, std_dev, confidence):\n",
    "    z_score = st.norm.ppf(1-(confidence/2))\n",
    "    upper = prob + z_score*STDEV\n",
    "    lower = prob - z_score*STDEV\n",
    "    return (lower, upper)\n",
    "lower, upper = conf_interval(gross_conv_diff, STDEV, 0.05)\n",
    "print(\"The 95% confidence interval is: [{}, {}]\".format(round(lower, 4), round(upper, 4)))\n",
    "\n",
    "if lower > 0 or upper < 0:\n",
    "    print(\"The change is statistically significant!\")\n",
    "    if (lower > d_min or upper < -d_min):\n",
    "        print(\"The change is also practically significant!\")\n",
    "    else:\n",
    "        print(\"The change is not practically significant!\")\n",
    "else:\n",
    "    print(\"The change is statistically insignificant!\")\n"
   ]
  },
  {
   "cell_type": "markdown",
   "metadata": {},
   "source": [
    "#### Net Conversion\n",
    "We will do the same for net conversion."
   ]
  },
  {
   "cell_type": "code",
   "execution_count": 21,
   "metadata": {},
   "outputs": [
    {
     "name": "stdout",
     "output_type": "stream",
     "text": [
      "Net Conversion of control group: 0.11756201931417337\n",
      "Net Conversion of experiment group: 0.1126882966396292\n"
     ]
    }
   ],
   "source": [
    "control_payments = control['Payments'].sum()\n",
    "control_net_conv = control_payments / control_clicks\n",
    "print (\"Net Conversion of control group: {}\".format(control_net_conv))\n",
    "\n",
    "experiment_payments = experiment['Payments'].sum()\n",
    "experiment_net_conv = experiment_payments / experiment_clicks\n",
    "print (\"Net Conversion of experiment group: {}\".format(experiment_net_conv))"
   ]
  },
  {
   "cell_type": "markdown",
   "metadata": {},
   "source": [
    "The change looks much smaller in this case. Let's see if it is statistically or practically significant."
   ]
  },
  {
   "cell_type": "code",
   "execution_count": 22,
   "metadata": {},
   "outputs": [
    {
     "name": "stdout",
     "output_type": "stream",
     "text": [
      "The change in Net Conversion is: -0.0049%\n",
      "The 95% confidence interval is: [-0.0116, 0.0019]\n",
      "The change is statistically and practically insignificant!\n"
     ]
    }
   ],
   "source": [
    "d_min = 0.0075\n",
    "net_conv_pool = (control_payments + experiment_payments) / (control_clicks + experiment_clicks)\n",
    "STDEV = stdev_pool(net_conv_pool, control_clicks, experiment_clicks)\n",
    "net_conv_diff = experiment_net_conv - control_net_conv\n",
    "print(\"The change in Net Conversion is: {}%\".format(round(net_conv_diff, 4)))\n",
    "\n",
    "# Calculating the 95% confidence interval\n",
    "lower, upper = conf_interval(net_conv_diff, STDEV, 0.05)\n",
    "print(\"The 95% confidence interval is: [{}, {}]\".format(round(lower, 4), round(upper, 4)))\n",
    "\n",
    "if lower > 0 or upper < 0:\n",
    "    print(\"The change is statistically significant!\")\n",
    "    if (lower > d_min or upper < -d_min):\n",
    "        print(\"The change is also practically significant!\")\n",
    "    else:\n",
    "        print(\"The change is not practically significant!\")\n",
    "else:\n",
    "    print(\"The change is statistically and practically insignificant!\")\n"
   ]
  },
  {
   "cell_type": "markdown",
   "metadata": {},
   "source": [
    "## Summary and Recommendation\n",
    "\n",
    "This experiment was designed to determine whether encouraging the students with not enough time to skip enrollment and audit the course instead would improve the overall student experience and allow coaches to support students who are likely to complete the course. A statistically and practically signficant decrease in Gross Conversion was observed accompanied with no significant change in Net Conversion. This is actually in line with the test hypothesis which hoped for reducing gross conversion but not significantly reducing the net conversion (number of students who continue past the free trial and may eventually complete the course). Therefore, my recommendation is to launch this experiment."
   ]
  },
  {
   "cell_type": "code",
   "execution_count": null,
   "metadata": {},
   "outputs": [],
   "source": []
  }
 ],
 "metadata": {
  "kernelspec": {
   "display_name": "Python 3",
   "language": "python",
   "name": "python3"
  },
  "language_info": {
   "codemirror_mode": {
    "name": "ipython",
    "version": 3
   },
   "file_extension": ".py",
   "mimetype": "text/x-python",
   "name": "python",
   "nbconvert_exporter": "python",
   "pygments_lexer": "ipython3",
   "version": "3.6.4"
  }
 },
 "nbformat": 4,
 "nbformat_minor": 4
}

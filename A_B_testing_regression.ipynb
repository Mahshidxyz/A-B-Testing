{
 "cells": [
  {
   "cell_type": "markdown",
   "metadata": {},
   "source": [
    "# A/B testing for a landing page - regression with covariates\n",
    "\n",
    "[mahshidxyz](http://www.github.com/mahshidxyz)\n",
    "\n",
    "July 2020\n",
    "\n",
    "---\n",
    "\n",
    "This study will investigate the results of an A/B test in which a new landing page is tested for an e-commerce website. Unit of diversion is user-id. Conversion was measured for logged in users and each user was supposed to be tested once. The experiment has been run in three countries (CA, UK, US) with different sampling sizes. The experiment duration was about 3 weeks.\n",
    "\n",
    "I first checked the quality of the data and invariants. User-ids that have experienced both landing pages due to double bucketing were removed. I made sure that control and treatment group sizes were even at both global and country levels. To assess the significance of the observed differences between the conversion rates a z-test for proportion was done. To control for the effect of covariate (country of users) on conversion, a logistic regression model with treatment and country variables was built. Including the covariates in the model may produce a more reliable estimate of the treatment effect, controlling for other factors. The results show that treatment, user location, and their interaction does not have a significant effect on the conversion rate (p-value of log likelihood ratio tests > 0.05). In other words, variations in these predictors are not able to explain the variation in conversion.\n"
   ]
  },
  {
   "cell_type": "markdown",
   "metadata": {},
   "source": [
    "# Data Import, cleaning, quality check"
   ]
  },
  {
   "cell_type": "code",
   "execution_count": 1,
   "metadata": {},
   "outputs": [],
   "source": [
    "import math\n",
    "import pandas as pd\n",
    "import numpy as np\n",
    "import datetime as dt\n",
    "import matplotlib.pyplot as plt\n",
    "import statsmodels.api as sm"
   ]
  },
  {
   "cell_type": "code",
   "execution_count": 2,
   "metadata": {},
   "outputs": [
    {
     "name": "stdout",
     "output_type": "stream",
     "text": [
      "<class 'pandas.core.frame.DataFrame'>\n",
      "RangeIndex: 294478 entries, 0 to 294477\n",
      "Data columns (total 6 columns):\n",
      " #   Column        Non-Null Count   Dtype \n",
      "---  ------        --------------   ----- \n",
      " 0   user_id       294478 non-null  int64 \n",
      " 1   timestamp     294478 non-null  object\n",
      " 2   country       294478 non-null  object\n",
      " 3   group         294478 non-null  object\n",
      " 4   landing_page  294478 non-null  object\n",
      " 5   converted     294478 non-null  int64 \n",
      "dtypes: int64(2), object(4)\n",
      "memory usage: 13.5+ MB\n"
     ]
    }
   ],
   "source": [
    "# importing the data\n",
    "df = pd.read_csv('landing_page_test.csv')\n",
    "df.info()"
   ]
  },
  {
   "cell_type": "code",
   "execution_count": 3,
   "metadata": {},
   "outputs": [
    {
     "data": {
      "text/plain": [
       "(array(['control', 'treatment'], dtype=object),\n",
       " array(['old_page', 'new_page'], dtype=object))"
      ]
     },
     "execution_count": 3,
     "metadata": {},
     "output_type": "execute_result"
    }
   ],
   "source": [
    "# quality check \n",
    "df.group.unique(), df.landing_page.unique()"
   ]
  },
  {
   "cell_type": "code",
   "execution_count": 4,
   "metadata": {},
   "outputs": [
    {
     "data": {
      "text/plain": [
       "array(['US', 'CA', 'UK'], dtype=object)"
      ]
     },
     "execution_count": 4,
     "metadata": {},
     "output_type": "execute_result"
    }
   ],
   "source": [
    "# quality check \n",
    "df.country.unique()"
   ]
  },
  {
   "cell_type": "code",
   "execution_count": 5,
   "metadata": {},
   "outputs": [
    {
     "name": "stdout",
     "output_type": "stream",
     "text": [
      "1965\n",
      "1928\n"
     ]
    }
   ],
   "source": [
    "# quality check for wrong assignments\n",
    "print(len(df.query(\"group == 'treatment' and landing_page == 'old_page'\")))\n",
    "print(len(df.query(\"group == 'control' and landing_page == 'new_page'\")))"
   ]
  },
  {
   "cell_type": "code",
   "execution_count": 6,
   "metadata": {},
   "outputs": [
    {
     "data": {
      "text/plain": [
       "converted\n",
       "0    259241\n",
       "1     35237\n",
       "Name: user_id, dtype: int64"
      ]
     },
     "execution_count": 6,
     "metadata": {},
     "output_type": "execute_result"
    }
   ],
   "source": [
    "# total conversion count \n",
    "df.groupby('converted')['user_id'].count()"
   ]
  },
  {
   "cell_type": "code",
   "execution_count": 7,
   "metadata": {},
   "outputs": [
    {
     "data": {
      "text/plain": [
       "35173"
      ]
     },
     "execution_count": 7,
     "metadata": {},
     "output_type": "execute_result"
    }
   ],
   "source": [
    "# number of unique user-ids who converted is less than the total convrsion count\n",
    "df[df['converted']==1]['user_id'].nunique()"
   ]
  },
  {
   "cell_type": "code",
   "execution_count": 8,
   "metadata": {},
   "outputs": [
    {
     "data": {
      "text/plain": [
       "user_id\n",
       "809993    2\n",
       "800362    2\n",
       "800351    2\n",
       "755787    2\n",
       "633243    2\n",
       "dtype: int64"
      ]
     },
     "execution_count": 8,
     "metadata": {},
     "output_type": "execute_result"
    }
   ],
   "source": [
    "# the duplicates only apear twice in the dataset\n",
    "df.groupby('user_id').size().sort_values(ascending=False).head()"
   ]
  },
  {
   "cell_type": "code",
   "execution_count": 9,
   "metadata": {},
   "outputs": [],
   "source": [
    "# I will drop the rows with mistmatched landing page types and group types\n",
    "df = df[((df['group']=='control') & (df['landing_page']=='old_page')) | ((df['group']=='treatment') & (df['landing_page']=='new_page'))] "
   ]
  },
  {
   "cell_type": "code",
   "execution_count": 10,
   "metadata": {},
   "outputs": [
    {
     "data": {
      "text/plain": [
       "290585"
      ]
     },
     "execution_count": 10,
     "metadata": {},
     "output_type": "execute_result"
    }
   ],
   "source": [
    "# new size of dataset\n",
    "len(df)"
   ]
  },
  {
   "cell_type": "code",
   "execution_count": 11,
   "metadata": {},
   "outputs": [
    {
     "data": {
      "text/plain": [
       "1"
      ]
     },
     "execution_count": 11,
     "metadata": {},
     "output_type": "execute_result"
    }
   ],
   "source": [
    "# check for duplicated user ids\n",
    "len(df) - df.user_id.nunique()"
   ]
  },
  {
   "cell_type": "code",
   "execution_count": 12,
   "metadata": {},
   "outputs": [
    {
     "data": {
      "text/html": [
       "<div>\n",
       "<style scoped>\n",
       "    .dataframe tbody tr th:only-of-type {\n",
       "        vertical-align: middle;\n",
       "    }\n",
       "\n",
       "    .dataframe tbody tr th {\n",
       "        vertical-align: top;\n",
       "    }\n",
       "\n",
       "    .dataframe thead th {\n",
       "        text-align: right;\n",
       "    }\n",
       "</style>\n",
       "<table border=\"1\" class=\"dataframe\">\n",
       "  <thead>\n",
       "    <tr style=\"text-align: right;\">\n",
       "      <th></th>\n",
       "      <th>user_id</th>\n",
       "      <th>timestamp</th>\n",
       "      <th>country</th>\n",
       "      <th>group</th>\n",
       "      <th>landing_page</th>\n",
       "      <th>converted</th>\n",
       "    </tr>\n",
       "  </thead>\n",
       "  <tbody>\n",
       "    <tr>\n",
       "      <th>1899</th>\n",
       "      <td>773192</td>\n",
       "      <td>2017-01-09 05:37:58.781806</td>\n",
       "      <td>US</td>\n",
       "      <td>treatment</td>\n",
       "      <td>new_page</td>\n",
       "      <td>0</td>\n",
       "    </tr>\n",
       "    <tr>\n",
       "      <th>2893</th>\n",
       "      <td>773192</td>\n",
       "      <td>2017-01-14 02:55:59.590927</td>\n",
       "      <td>US</td>\n",
       "      <td>treatment</td>\n",
       "      <td>new_page</td>\n",
       "      <td>0</td>\n",
       "    </tr>\n",
       "  </tbody>\n",
       "</table>\n",
       "</div>"
      ],
      "text/plain": [
       "      user_id                   timestamp country      group landing_page  \\\n",
       "1899   773192  2017-01-09 05:37:58.781806      US  treatment     new_page   \n",
       "2893   773192  2017-01-14 02:55:59.590927      US  treatment     new_page   \n",
       "\n",
       "      converted  \n",
       "1899          0  \n",
       "2893          0  "
      ]
     },
     "execution_count": 12,
     "metadata": {},
     "output_type": "execute_result"
    }
   ],
   "source": [
    "# there is still 1 duplicate\n",
    "df[df.user_id.duplicated(keep=False)]"
   ]
  },
  {
   "cell_type": "code",
   "execution_count": 13,
   "metadata": {},
   "outputs": [],
   "source": [
    "# I will drop this user-id too for consistency\n",
    "df.drop_duplicates('user_id', inplace=True)"
   ]
  },
  {
   "cell_type": "markdown",
   "metadata": {},
   "source": [
    "# Sanity check: Invariants"
   ]
  },
  {
   "cell_type": "code",
   "execution_count": 14,
   "metadata": {},
   "outputs": [
    {
     "data": {
      "text/plain": [
       "country  group    \n",
       "CA       control        7198\n",
       "         treatment      7301\n",
       "UK       control       36360\n",
       "         treatment     36106\n",
       "US       control      101716\n",
       "         treatment    101903\n",
       "dtype: int64"
      ]
     },
     "execution_count": 14,
     "metadata": {},
     "output_type": "execute_result"
    }
   ],
   "source": [
    "# check if the users are distributed evenly between control and treatment\n",
    "df.groupby(['country', 'group']).size()"
   ]
  },
  {
   "cell_type": "code",
   "execution_count": 15,
   "metadata": {},
   "outputs": [
    {
     "name": "stdout",
     "output_type": "stream",
     "text": [
      "We are good! p = 0.49644803089868267, 95% CI for 0.5 is [0.4918612623233678, 0.5081387376766322]\n"
     ]
    }
   ],
   "source": [
    "# check if CA proportion is ok\n",
    "p = len(df[(df['country']=='CA') & (df['group'] == 'control')])/len(df[df['country']=='CA'])\n",
    "n_CA = len(df[df['country']=='CA'])\n",
    "# std for a binomial prob of 0.5 with n_CA samples\n",
    "SD = math.sqrt(0.5*0.5/n_CA)\n",
    "if p > 0.5 + SD * 1.96 or p < 0.5 - SD * 1.96:\n",
    "    print ('prob of being in control group in CA is significantly different from 0.5')\n",
    "else:\n",
    "    print ('We are good! p = {}, 95% CI for 0.5 is [{}, {}]'.format(p, 0.5 - SD * 1.96, 0.5 + SD * 1.96))"
   ]
  },
  {
   "cell_type": "markdown",
   "metadata": {},
   "source": [
    "# Sanity check: Trends over time"
   ]
  },
  {
   "cell_type": "code",
   "execution_count": 16,
   "metadata": {},
   "outputs": [
    {
     "data": {
      "text/html": [
       "<div>\n",
       "<style scoped>\n",
       "    .dataframe tbody tr th:only-of-type {\n",
       "        vertical-align: middle;\n",
       "    }\n",
       "\n",
       "    .dataframe tbody tr th {\n",
       "        vertical-align: top;\n",
       "    }\n",
       "\n",
       "    .dataframe thead th {\n",
       "        text-align: right;\n",
       "    }\n",
       "</style>\n",
       "<table border=\"1\" class=\"dataframe\">\n",
       "  <thead>\n",
       "    <tr style=\"text-align: right;\">\n",
       "      <th></th>\n",
       "      <th>user_id</th>\n",
       "      <th>timestamp</th>\n",
       "      <th>country</th>\n",
       "      <th>group</th>\n",
       "      <th>landing_page</th>\n",
       "      <th>converted</th>\n",
       "      <th>date</th>\n",
       "    </tr>\n",
       "  </thead>\n",
       "  <tbody>\n",
       "    <tr>\n",
       "      <th>0</th>\n",
       "      <td>851104</td>\n",
       "      <td>2017-01-21 22:11:48.556739</td>\n",
       "      <td>US</td>\n",
       "      <td>control</td>\n",
       "      <td>old_page</td>\n",
       "      <td>0</td>\n",
       "      <td>2017-01-21</td>\n",
       "    </tr>\n",
       "    <tr>\n",
       "      <th>1</th>\n",
       "      <td>804228</td>\n",
       "      <td>2017-01-12 08:01:45.159739</td>\n",
       "      <td>US</td>\n",
       "      <td>control</td>\n",
       "      <td>old_page</td>\n",
       "      <td>0</td>\n",
       "      <td>2017-01-12</td>\n",
       "    </tr>\n",
       "    <tr>\n",
       "      <th>2</th>\n",
       "      <td>661590</td>\n",
       "      <td>2017-01-11 16:55:06.154213</td>\n",
       "      <td>US</td>\n",
       "      <td>treatment</td>\n",
       "      <td>new_page</td>\n",
       "      <td>0</td>\n",
       "      <td>2017-01-11</td>\n",
       "    </tr>\n",
       "    <tr>\n",
       "      <th>3</th>\n",
       "      <td>853541</td>\n",
       "      <td>2017-01-08 18:28:03.143765</td>\n",
       "      <td>US</td>\n",
       "      <td>treatment</td>\n",
       "      <td>new_page</td>\n",
       "      <td>0</td>\n",
       "      <td>2017-01-08</td>\n",
       "    </tr>\n",
       "    <tr>\n",
       "      <th>4</th>\n",
       "      <td>864975</td>\n",
       "      <td>2017-01-21 01:52:26.210827</td>\n",
       "      <td>US</td>\n",
       "      <td>control</td>\n",
       "      <td>old_page</td>\n",
       "      <td>1</td>\n",
       "      <td>2017-01-21</td>\n",
       "    </tr>\n",
       "  </tbody>\n",
       "</table>\n",
       "</div>"
      ],
      "text/plain": [
       "   user_id                   timestamp country      group landing_page  \\\n",
       "0   851104  2017-01-21 22:11:48.556739      US    control     old_page   \n",
       "1   804228  2017-01-12 08:01:45.159739      US    control     old_page   \n",
       "2   661590  2017-01-11 16:55:06.154213      US  treatment     new_page   \n",
       "3   853541  2017-01-08 18:28:03.143765      US  treatment     new_page   \n",
       "4   864975  2017-01-21 01:52:26.210827      US    control     old_page   \n",
       "\n",
       "   converted        date  \n",
       "0          0  2017-01-21  \n",
       "1          0  2017-01-12  \n",
       "2          0  2017-01-11  \n",
       "3          0  2017-01-08  \n",
       "4          1  2017-01-21  "
      ]
     },
     "execution_count": 16,
     "metadata": {},
     "output_type": "execute_result"
    }
   ],
   "source": [
    "df['date'] = pd.to_datetime(df['timestamp']) # returns datetime\n",
    "df['date'] = df['date'].dt.date\n",
    "df.head()"
   ]
  },
  {
   "cell_type": "code",
   "execution_count": 17,
   "metadata": {},
   "outputs": [
    {
     "data": {
      "text/html": [
       "<div>\n",
       "<style scoped>\n",
       "    .dataframe tbody tr th:only-of-type {\n",
       "        vertical-align: middle;\n",
       "    }\n",
       "\n",
       "    .dataframe tbody tr th {\n",
       "        vertical-align: top;\n",
       "    }\n",
       "\n",
       "    .dataframe thead th {\n",
       "        text-align: right;\n",
       "    }\n",
       "</style>\n",
       "<table border=\"1\" class=\"dataframe\">\n",
       "  <thead>\n",
       "    <tr style=\"text-align: right;\">\n",
       "      <th></th>\n",
       "      <th>date</th>\n",
       "      <th>group</th>\n",
       "      <th>total</th>\n",
       "      <th>converted</th>\n",
       "      <th>conversion</th>\n",
       "    </tr>\n",
       "  </thead>\n",
       "  <tbody>\n",
       "    <tr>\n",
       "      <th>0</th>\n",
       "      <td>2017-01-02</td>\n",
       "      <td>control</td>\n",
       "      <td>2859</td>\n",
       "      <td>359</td>\n",
       "      <td>0.125568</td>\n",
       "    </tr>\n",
       "    <tr>\n",
       "      <th>1</th>\n",
       "      <td>2017-01-02</td>\n",
       "      <td>treatment</td>\n",
       "      <td>2853</td>\n",
       "      <td>342</td>\n",
       "      <td>0.119874</td>\n",
       "    </tr>\n",
       "    <tr>\n",
       "      <th>2</th>\n",
       "      <td>2017-01-03</td>\n",
       "      <td>control</td>\n",
       "      <td>6590</td>\n",
       "      <td>750</td>\n",
       "      <td>0.113809</td>\n",
       "    </tr>\n",
       "    <tr>\n",
       "      <th>3</th>\n",
       "      <td>2017-01-03</td>\n",
       "      <td>treatment</td>\n",
       "      <td>6618</td>\n",
       "      <td>753</td>\n",
       "      <td>0.113781</td>\n",
       "    </tr>\n",
       "    <tr>\n",
       "      <th>4</th>\n",
       "      <td>2017-01-04</td>\n",
       "      <td>control</td>\n",
       "      <td>6578</td>\n",
       "      <td>802</td>\n",
       "      <td>0.121922</td>\n",
       "    </tr>\n",
       "  </tbody>\n",
       "</table>\n",
       "</div>"
      ],
      "text/plain": [
       "         date      group  total  converted  conversion\n",
       "0  2017-01-02    control   2859        359    0.125568\n",
       "1  2017-01-02  treatment   2853        342    0.119874\n",
       "2  2017-01-03    control   6590        750    0.113809\n",
       "3  2017-01-03  treatment   6618        753    0.113781\n",
       "4  2017-01-04    control   6578        802    0.121922"
      ]
     },
     "execution_count": 17,
     "metadata": {},
     "output_type": "execute_result"
    }
   ],
   "source": [
    "df_time = df.groupby(['date', 'group']).agg({'landing_page': 'count', 'converted': 'sum'}).reset_index()\n",
    "df_time.rename(columns = {'landing_page':'total'}, inplace = True)\n",
    "df_time['conversion'] = df_time['converted']/df_time['total']\n",
    "df_time.head()"
   ]
  },
  {
   "cell_type": "code",
   "execution_count": 18,
   "metadata": {},
   "outputs": [
    {
     "data": {
      "text/html": [
       "<div>\n",
       "<style scoped>\n",
       "    .dataframe tbody tr th:only-of-type {\n",
       "        vertical-align: middle;\n",
       "    }\n",
       "\n",
       "    .dataframe tbody tr th {\n",
       "        vertical-align: top;\n",
       "    }\n",
       "\n",
       "    .dataframe thead tr th {\n",
       "        text-align: left;\n",
       "    }\n",
       "\n",
       "    .dataframe thead tr:last-of-type th {\n",
       "        text-align: right;\n",
       "    }\n",
       "</style>\n",
       "<table border=\"1\" class=\"dataframe\">\n",
       "  <thead>\n",
       "    <tr>\n",
       "      <th></th>\n",
       "      <th colspan=\"2\" halign=\"left\">total</th>\n",
       "      <th colspan=\"2\" halign=\"left\">converted</th>\n",
       "      <th colspan=\"2\" halign=\"left\">conversion</th>\n",
       "    </tr>\n",
       "    <tr>\n",
       "      <th>group</th>\n",
       "      <th>control</th>\n",
       "      <th>treatment</th>\n",
       "      <th>control</th>\n",
       "      <th>treatment</th>\n",
       "      <th>control</th>\n",
       "      <th>treatment</th>\n",
       "    </tr>\n",
       "    <tr>\n",
       "      <th>date</th>\n",
       "      <th></th>\n",
       "      <th></th>\n",
       "      <th></th>\n",
       "      <th></th>\n",
       "      <th></th>\n",
       "      <th></th>\n",
       "    </tr>\n",
       "  </thead>\n",
       "  <tbody>\n",
       "    <tr>\n",
       "      <th>2017-01-02</th>\n",
       "      <td>2859</td>\n",
       "      <td>2853</td>\n",
       "      <td>359</td>\n",
       "      <td>342</td>\n",
       "      <td>0.125568</td>\n",
       "      <td>0.119874</td>\n",
       "    </tr>\n",
       "    <tr>\n",
       "      <th>2017-01-03</th>\n",
       "      <td>6590</td>\n",
       "      <td>6618</td>\n",
       "      <td>750</td>\n",
       "      <td>753</td>\n",
       "      <td>0.113809</td>\n",
       "      <td>0.113781</td>\n",
       "    </tr>\n",
       "    <tr>\n",
       "      <th>2017-01-04</th>\n",
       "      <td>6578</td>\n",
       "      <td>6541</td>\n",
       "      <td>802</td>\n",
       "      <td>763</td>\n",
       "      <td>0.121922</td>\n",
       "      <td>0.116649</td>\n",
       "    </tr>\n",
       "    <tr>\n",
       "      <th>2017-01-05</th>\n",
       "      <td>6427</td>\n",
       "      <td>6505</td>\n",
       "      <td>792</td>\n",
       "      <td>748</td>\n",
       "      <td>0.123230</td>\n",
       "      <td>0.114988</td>\n",
       "    </tr>\n",
       "    <tr>\n",
       "      <th>2017-01-06</th>\n",
       "      <td>6606</td>\n",
       "      <td>6747</td>\n",
       "      <td>762</td>\n",
       "      <td>833</td>\n",
       "      <td>0.115350</td>\n",
       "      <td>0.123462</td>\n",
       "    </tr>\n",
       "    <tr>\n",
       "      <th>2017-01-07</th>\n",
       "      <td>6604</td>\n",
       "      <td>6609</td>\n",
       "      <td>799</td>\n",
       "      <td>768</td>\n",
       "      <td>0.120987</td>\n",
       "      <td>0.116205</td>\n",
       "    </tr>\n",
       "    <tr>\n",
       "      <th>2017-01-08</th>\n",
       "      <td>6687</td>\n",
       "      <td>6700</td>\n",
       "      <td>795</td>\n",
       "      <td>809</td>\n",
       "      <td>0.118887</td>\n",
       "      <td>0.120746</td>\n",
       "    </tr>\n",
       "    <tr>\n",
       "      <th>2017-01-09</th>\n",
       "      <td>6628</td>\n",
       "      <td>6615</td>\n",
       "      <td>793</td>\n",
       "      <td>781</td>\n",
       "      <td>0.119644</td>\n",
       "      <td>0.118065</td>\n",
       "    </tr>\n",
       "    <tr>\n",
       "      <th>2017-01-10</th>\n",
       "      <td>6654</td>\n",
       "      <td>6696</td>\n",
       "      <td>751</td>\n",
       "      <td>846</td>\n",
       "      <td>0.112864</td>\n",
       "      <td>0.126344</td>\n",
       "    </tr>\n",
       "    <tr>\n",
       "      <th>2017-01-11</th>\n",
       "      <td>6688</td>\n",
       "      <td>6673</td>\n",
       "      <td>795</td>\n",
       "      <td>768</td>\n",
       "      <td>0.118870</td>\n",
       "      <td>0.115091</td>\n",
       "    </tr>\n",
       "    <tr>\n",
       "      <th>2017-01-12</th>\n",
       "      <td>6522</td>\n",
       "      <td>6637</td>\n",
       "      <td>796</td>\n",
       "      <td>812</td>\n",
       "      <td>0.122048</td>\n",
       "      <td>0.122344</td>\n",
       "    </tr>\n",
       "    <tr>\n",
       "      <th>2017-01-13</th>\n",
       "      <td>6552</td>\n",
       "      <td>6508</td>\n",
       "      <td>766</td>\n",
       "      <td>724</td>\n",
       "      <td>0.116911</td>\n",
       "      <td>0.111248</td>\n",
       "    </tr>\n",
       "    <tr>\n",
       "      <th>2017-01-14</th>\n",
       "      <td>6548</td>\n",
       "      <td>6599</td>\n",
       "      <td>830</td>\n",
       "      <td>787</td>\n",
       "      <td>0.126756</td>\n",
       "      <td>0.119260</td>\n",
       "    </tr>\n",
       "    <tr>\n",
       "      <th>2017-01-15</th>\n",
       "      <td>6714</td>\n",
       "      <td>6549</td>\n",
       "      <td>809</td>\n",
       "      <td>743</td>\n",
       "      <td>0.120494</td>\n",
       "      <td>0.113452</td>\n",
       "    </tr>\n",
       "    <tr>\n",
       "      <th>2017-01-16</th>\n",
       "      <td>6591</td>\n",
       "      <td>6545</td>\n",
       "      <td>803</td>\n",
       "      <td>780</td>\n",
       "      <td>0.121833</td>\n",
       "      <td>0.119175</td>\n",
       "    </tr>\n",
       "    <tr>\n",
       "      <th>2017-01-17</th>\n",
       "      <td>6617</td>\n",
       "      <td>6538</td>\n",
       "      <td>813</td>\n",
       "      <td>832</td>\n",
       "      <td>0.122865</td>\n",
       "      <td>0.127256</td>\n",
       "    </tr>\n",
       "    <tr>\n",
       "      <th>2017-01-18</th>\n",
       "      <td>6482</td>\n",
       "      <td>6603</td>\n",
       "      <td>809</td>\n",
       "      <td>824</td>\n",
       "      <td>0.124807</td>\n",
       "      <td>0.124792</td>\n",
       "    </tr>\n",
       "    <tr>\n",
       "      <th>2017-01-19</th>\n",
       "      <td>6578</td>\n",
       "      <td>6552</td>\n",
       "      <td>789</td>\n",
       "      <td>768</td>\n",
       "      <td>0.119945</td>\n",
       "      <td>0.117216</td>\n",
       "    </tr>\n",
       "    <tr>\n",
       "      <th>2017-01-20</th>\n",
       "      <td>6534</td>\n",
       "      <td>6679</td>\n",
       "      <td>753</td>\n",
       "      <td>786</td>\n",
       "      <td>0.115243</td>\n",
       "      <td>0.117682</td>\n",
       "    </tr>\n",
       "    <tr>\n",
       "      <th>2017-01-21</th>\n",
       "      <td>6749</td>\n",
       "      <td>6560</td>\n",
       "      <td>850</td>\n",
       "      <td>759</td>\n",
       "      <td>0.125945</td>\n",
       "      <td>0.115701</td>\n",
       "    </tr>\n",
       "    <tr>\n",
       "      <th>2017-01-22</th>\n",
       "      <td>6596</td>\n",
       "      <td>6669</td>\n",
       "      <td>786</td>\n",
       "      <td>787</td>\n",
       "      <td>0.119163</td>\n",
       "      <td>0.118009</td>\n",
       "    </tr>\n",
       "    <tr>\n",
       "      <th>2017-01-23</th>\n",
       "      <td>6716</td>\n",
       "      <td>6633</td>\n",
       "      <td>844</td>\n",
       "      <td>803</td>\n",
       "      <td>0.125670</td>\n",
       "      <td>0.121061</td>\n",
       "    </tr>\n",
       "    <tr>\n",
       "      <th>2017-01-24</th>\n",
       "      <td>3754</td>\n",
       "      <td>3681</td>\n",
       "      <td>443</td>\n",
       "      <td>448</td>\n",
       "      <td>0.118007</td>\n",
       "      <td>0.121706</td>\n",
       "    </tr>\n",
       "  </tbody>\n",
       "</table>\n",
       "</div>"
      ],
      "text/plain": [
       "             total           converted           conversion          \n",
       "group      control treatment   control treatment    control treatment\n",
       "date                                                                 \n",
       "2017-01-02    2859      2853       359       342   0.125568  0.119874\n",
       "2017-01-03    6590      6618       750       753   0.113809  0.113781\n",
       "2017-01-04    6578      6541       802       763   0.121922  0.116649\n",
       "2017-01-05    6427      6505       792       748   0.123230  0.114988\n",
       "2017-01-06    6606      6747       762       833   0.115350  0.123462\n",
       "2017-01-07    6604      6609       799       768   0.120987  0.116205\n",
       "2017-01-08    6687      6700       795       809   0.118887  0.120746\n",
       "2017-01-09    6628      6615       793       781   0.119644  0.118065\n",
       "2017-01-10    6654      6696       751       846   0.112864  0.126344\n",
       "2017-01-11    6688      6673       795       768   0.118870  0.115091\n",
       "2017-01-12    6522      6637       796       812   0.122048  0.122344\n",
       "2017-01-13    6552      6508       766       724   0.116911  0.111248\n",
       "2017-01-14    6548      6599       830       787   0.126756  0.119260\n",
       "2017-01-15    6714      6549       809       743   0.120494  0.113452\n",
       "2017-01-16    6591      6545       803       780   0.121833  0.119175\n",
       "2017-01-17    6617      6538       813       832   0.122865  0.127256\n",
       "2017-01-18    6482      6603       809       824   0.124807  0.124792\n",
       "2017-01-19    6578      6552       789       768   0.119945  0.117216\n",
       "2017-01-20    6534      6679       753       786   0.115243  0.117682\n",
       "2017-01-21    6749      6560       850       759   0.125945  0.115701\n",
       "2017-01-22    6596      6669       786       787   0.119163  0.118009\n",
       "2017-01-23    6716      6633       844       803   0.125670  0.121061\n",
       "2017-01-24    3754      3681       443       448   0.118007  0.121706"
      ]
     },
     "execution_count": 18,
     "metadata": {},
     "output_type": "execute_result"
    }
   ],
   "source": [
    "# no particular entry stands out. we are good.\n",
    "# first and last day are not full probably since this was run in 3 countries with different time zone\n",
    "df_time.pivot(index='date', columns='group')"
   ]
  },
  {
   "cell_type": "markdown",
   "metadata": {},
   "source": [
    "# Test result summary"
   ]
  },
  {
   "cell_type": "code",
   "execution_count": 19,
   "metadata": {},
   "outputs": [
    {
     "data": {
      "text/html": [
       "<div>\n",
       "<style scoped>\n",
       "    .dataframe tbody tr th:only-of-type {\n",
       "        vertical-align: middle;\n",
       "    }\n",
       "\n",
       "    .dataframe tbody tr th {\n",
       "        vertical-align: top;\n",
       "    }\n",
       "\n",
       "    .dataframe thead th {\n",
       "        text-align: right;\n",
       "    }\n",
       "</style>\n",
       "<table border=\"1\" class=\"dataframe\">\n",
       "  <thead>\n",
       "    <tr style=\"text-align: right;\">\n",
       "      <th></th>\n",
       "      <th>group</th>\n",
       "      <th>n_total</th>\n",
       "      <th>n_converted</th>\n",
       "      <th>conversion</th>\n",
       "    </tr>\n",
       "  </thead>\n",
       "  <tbody>\n",
       "    <tr>\n",
       "      <th>0</th>\n",
       "      <td>control</td>\n",
       "      <td>145274</td>\n",
       "      <td>17489</td>\n",
       "      <td>0.120386</td>\n",
       "    </tr>\n",
       "    <tr>\n",
       "      <th>1</th>\n",
       "      <td>treatment</td>\n",
       "      <td>145310</td>\n",
       "      <td>17264</td>\n",
       "      <td>0.118808</td>\n",
       "    </tr>\n",
       "  </tbody>\n",
       "</table>\n",
       "</div>"
      ],
      "text/plain": [
       "       group  n_total  n_converted  conversion\n",
       "0    control   145274        17489    0.120386\n",
       "1  treatment   145310        17264    0.118808"
      ]
     },
     "execution_count": 19,
     "metadata": {},
     "output_type": "execute_result"
    }
   ],
   "source": [
    "# summarize the data\n",
    "df_summary = df.groupby('group')['converted'].agg({'count','sum','mean'}).reset_index()\n",
    "df_summary.rename(columns = {'count':'n_total', 'sum':'n_converted', 'mean':'conversion'}, inplace=True)\n",
    "df_summary = df_summary[['group', 'n_total', 'n_converted', 'conversion']]\n",
    "df_summary"
   ]
  },
  {
   "cell_type": "markdown",
   "metadata": {},
   "source": [
    "# A/B test result analysis: z-test for proportion \n",
    "\n",
    "The difference between the conversion rate in the control and treatment groups looks trivial (0.120 vs 0.118) and the control group actually had a higher conversion rate. To assess the significance of the results I will do a z-test for proportion, in which: \n",
    "\n",
    "\\begin{equation*} p_{pool} = \\frac{p_1 n_1 + p_2 n_2}{n_1 + n_2}\n",
    "\\end{equation*}\n",
    "\\begin{equation*} SE = \\sqrt{{p_{pool}(1-p_{pool})}{(\\frac{1}{n_1} + \\frac{1}{n_2})}}\n",
    "\\end{equation*}\n",
    "\\begin{equation*} z = \\frac{p_1 - p_2}{SE}\n",
    "\\end{equation*}\n",
    "\n",
    "Based on this test (one-sided), there is no significant difference between the two groups' conversions."
   ]
  },
  {
   "cell_type": "code",
   "execution_count": 20,
   "metadata": {},
   "outputs": [
    {
     "name": "stdout",
     "output_type": "stream",
     "text": [
      "Test results for an alternative hypothesis that p-control > p-treatment:\n",
      "z-score= 1.3109241984234394, p-value= 0.09494168724097551\n",
      "\n",
      "Note that if we were interested in a two-sided test (alternative hypothesis p-control <> p-treatment), we would have gotton:\n",
      "z-score= 1.3109241984234394, p-value= 0.18988337448195103\n",
      "We will see the same p-value of the 2-sided test later in the regression model.\n"
     ]
    }
   ],
   "source": [
    "n_control_convert = float(df_summary.loc[df_summary['group']=='control', 'n_converted'])\n",
    "n_control_total = float(df_summary.loc[df_summary['group']=='control', 'n_total'])\n",
    "n_treatment_convert = float(df_summary.loc[df_summary['group']=='treatment', 'n_converted'])\n",
    "n_treatment_total = float(df_summary.loc[df_summary['group']=='treatment', 'n_total'])\n",
    "\n",
    "\n",
    "## 1_sided\n",
    "z_score, p_value = sm.stats.proportions_ztest([n_control_convert, n_treatment_convert], [n_control_total, n_treatment_total], alternative='larger')\n",
    "print('Test results for an alternative hypothesis that p-control > p-treatment:')\n",
    "print('z-score= {}, p-value= {}'.format(z_score, p_value))\n",
    "print()\n",
    "\n",
    "## 2-sided for using in a future comparison \n",
    "z_score, p_value = sm.stats.proportions_ztest([n_control_convert, n_treatment_convert], [n_control_total, n_treatment_total])\n",
    "print('Note that if we were interested in a two-sided test (alternative hypothesis p-control <> p-treatment), we would have gotton:')\n",
    "print('z-score= {}, p-value= {}'.format(z_score, p_value))\n",
    "print('We will see the same p-value of the 2-sided test later in the regression model.')"
   ]
  },
  {
   "cell_type": "markdown",
   "metadata": {},
   "source": [
    "# A/B test result analysis: Regression"
   ]
  },
  {
   "cell_type": "code",
   "execution_count": 21,
   "metadata": {},
   "outputs": [
    {
     "data": {
      "text/html": [
       "<div>\n",
       "<style scoped>\n",
       "    .dataframe tbody tr th:only-of-type {\n",
       "        vertical-align: middle;\n",
       "    }\n",
       "\n",
       "    .dataframe tbody tr th {\n",
       "        vertical-align: top;\n",
       "    }\n",
       "\n",
       "    .dataframe thead th {\n",
       "        text-align: right;\n",
       "    }\n",
       "</style>\n",
       "<table border=\"1\" class=\"dataframe\">\n",
       "  <thead>\n",
       "    <tr style=\"text-align: right;\">\n",
       "      <th></th>\n",
       "      <th>user_id</th>\n",
       "      <th>timestamp</th>\n",
       "      <th>landing_page</th>\n",
       "      <th>converted</th>\n",
       "      <th>date</th>\n",
       "      <th>group_control</th>\n",
       "      <th>group_treatment</th>\n",
       "      <th>country_CA</th>\n",
       "      <th>country_UK</th>\n",
       "      <th>country_US</th>\n",
       "    </tr>\n",
       "  </thead>\n",
       "  <tbody>\n",
       "    <tr>\n",
       "      <th>0</th>\n",
       "      <td>851104</td>\n",
       "      <td>2017-01-21 22:11:48.556739</td>\n",
       "      <td>old_page</td>\n",
       "      <td>0</td>\n",
       "      <td>2017-01-21</td>\n",
       "      <td>1</td>\n",
       "      <td>0</td>\n",
       "      <td>0</td>\n",
       "      <td>0</td>\n",
       "      <td>1</td>\n",
       "    </tr>\n",
       "    <tr>\n",
       "      <th>1</th>\n",
       "      <td>804228</td>\n",
       "      <td>2017-01-12 08:01:45.159739</td>\n",
       "      <td>old_page</td>\n",
       "      <td>0</td>\n",
       "      <td>2017-01-12</td>\n",
       "      <td>1</td>\n",
       "      <td>0</td>\n",
       "      <td>0</td>\n",
       "      <td>0</td>\n",
       "      <td>1</td>\n",
       "    </tr>\n",
       "    <tr>\n",
       "      <th>2</th>\n",
       "      <td>661590</td>\n",
       "      <td>2017-01-11 16:55:06.154213</td>\n",
       "      <td>new_page</td>\n",
       "      <td>0</td>\n",
       "      <td>2017-01-11</td>\n",
       "      <td>0</td>\n",
       "      <td>1</td>\n",
       "      <td>0</td>\n",
       "      <td>0</td>\n",
       "      <td>1</td>\n",
       "    </tr>\n",
       "    <tr>\n",
       "      <th>3</th>\n",
       "      <td>853541</td>\n",
       "      <td>2017-01-08 18:28:03.143765</td>\n",
       "      <td>new_page</td>\n",
       "      <td>0</td>\n",
       "      <td>2017-01-08</td>\n",
       "      <td>0</td>\n",
       "      <td>1</td>\n",
       "      <td>0</td>\n",
       "      <td>0</td>\n",
       "      <td>1</td>\n",
       "    </tr>\n",
       "    <tr>\n",
       "      <th>4</th>\n",
       "      <td>864975</td>\n",
       "      <td>2017-01-21 01:52:26.210827</td>\n",
       "      <td>old_page</td>\n",
       "      <td>1</td>\n",
       "      <td>2017-01-21</td>\n",
       "      <td>1</td>\n",
       "      <td>0</td>\n",
       "      <td>0</td>\n",
       "      <td>0</td>\n",
       "      <td>1</td>\n",
       "    </tr>\n",
       "  </tbody>\n",
       "</table>\n",
       "</div>"
      ],
      "text/plain": [
       "   user_id                   timestamp landing_page  converted        date  \\\n",
       "0   851104  2017-01-21 22:11:48.556739     old_page          0  2017-01-21   \n",
       "1   804228  2017-01-12 08:01:45.159739     old_page          0  2017-01-12   \n",
       "2   661590  2017-01-11 16:55:06.154213     new_page          0  2017-01-11   \n",
       "3   853541  2017-01-08 18:28:03.143765     new_page          0  2017-01-08   \n",
       "4   864975  2017-01-21 01:52:26.210827     old_page          1  2017-01-21   \n",
       "\n",
       "   group_control  group_treatment  country_CA  country_UK  country_US  \n",
       "0              1                0           0           0           1  \n",
       "1              1                0           0           0           1  \n",
       "2              0                1           0           0           1  \n",
       "3              0                1           0           0           1  \n",
       "4              1                0           0           0           1  "
      ]
     },
     "execution_count": 21,
     "metadata": {},
     "output_type": "execute_result"
    }
   ],
   "source": [
    "# converting categorical variables to binary\n",
    "df2 = pd.get_dummies(df, columns=['group', 'country'])\n",
    "df2.head()"
   ]
  },
  {
   "cell_type": "code",
   "execution_count": 22,
   "metadata": {},
   "outputs": [
    {
     "data": {
      "text/html": [
       "<div>\n",
       "<style scoped>\n",
       "    .dataframe tbody tr th:only-of-type {\n",
       "        vertical-align: middle;\n",
       "    }\n",
       "\n",
       "    .dataframe tbody tr th {\n",
       "        vertical-align: top;\n",
       "    }\n",
       "\n",
       "    .dataframe thead th {\n",
       "        text-align: right;\n",
       "    }\n",
       "</style>\n",
       "<table border=\"1\" class=\"dataframe\">\n",
       "  <thead>\n",
       "    <tr style=\"text-align: right;\">\n",
       "      <th></th>\n",
       "      <th>user_id</th>\n",
       "      <th>timestamp</th>\n",
       "      <th>landing_page</th>\n",
       "      <th>converted</th>\n",
       "      <th>date</th>\n",
       "      <th>treatment</th>\n",
       "      <th>country_CA</th>\n",
       "      <th>country_UK</th>\n",
       "      <th>country_US</th>\n",
       "    </tr>\n",
       "  </thead>\n",
       "  <tbody>\n",
       "    <tr>\n",
       "      <th>0</th>\n",
       "      <td>851104</td>\n",
       "      <td>2017-01-21 22:11:48.556739</td>\n",
       "      <td>old_page</td>\n",
       "      <td>0</td>\n",
       "      <td>2017-01-21</td>\n",
       "      <td>0</td>\n",
       "      <td>0</td>\n",
       "      <td>0</td>\n",
       "      <td>1</td>\n",
       "    </tr>\n",
       "    <tr>\n",
       "      <th>1</th>\n",
       "      <td>804228</td>\n",
       "      <td>2017-01-12 08:01:45.159739</td>\n",
       "      <td>old_page</td>\n",
       "      <td>0</td>\n",
       "      <td>2017-01-12</td>\n",
       "      <td>0</td>\n",
       "      <td>0</td>\n",
       "      <td>0</td>\n",
       "      <td>1</td>\n",
       "    </tr>\n",
       "    <tr>\n",
       "      <th>2</th>\n",
       "      <td>661590</td>\n",
       "      <td>2017-01-11 16:55:06.154213</td>\n",
       "      <td>new_page</td>\n",
       "      <td>0</td>\n",
       "      <td>2017-01-11</td>\n",
       "      <td>1</td>\n",
       "      <td>0</td>\n",
       "      <td>0</td>\n",
       "      <td>1</td>\n",
       "    </tr>\n",
       "    <tr>\n",
       "      <th>3</th>\n",
       "      <td>853541</td>\n",
       "      <td>2017-01-08 18:28:03.143765</td>\n",
       "      <td>new_page</td>\n",
       "      <td>0</td>\n",
       "      <td>2017-01-08</td>\n",
       "      <td>1</td>\n",
       "      <td>0</td>\n",
       "      <td>0</td>\n",
       "      <td>1</td>\n",
       "    </tr>\n",
       "    <tr>\n",
       "      <th>4</th>\n",
       "      <td>864975</td>\n",
       "      <td>2017-01-21 01:52:26.210827</td>\n",
       "      <td>old_page</td>\n",
       "      <td>1</td>\n",
       "      <td>2017-01-21</td>\n",
       "      <td>0</td>\n",
       "      <td>0</td>\n",
       "      <td>0</td>\n",
       "      <td>1</td>\n",
       "    </tr>\n",
       "  </tbody>\n",
       "</table>\n",
       "</div>"
      ],
      "text/plain": [
       "   user_id                   timestamp landing_page  converted        date  \\\n",
       "0   851104  2017-01-21 22:11:48.556739     old_page          0  2017-01-21   \n",
       "1   804228  2017-01-12 08:01:45.159739     old_page          0  2017-01-12   \n",
       "2   661590  2017-01-11 16:55:06.154213     new_page          0  2017-01-11   \n",
       "3   853541  2017-01-08 18:28:03.143765     new_page          0  2017-01-08   \n",
       "4   864975  2017-01-21 01:52:26.210827     old_page          1  2017-01-21   \n",
       "\n",
       "   treatment  country_CA  country_UK  country_US  \n",
       "0          0           0           0           1  \n",
       "1          0           0           0           1  \n",
       "2          1           0           0           1  \n",
       "3          1           0           0           1  \n",
       "4          0           0           0           1  "
      ]
     },
     "execution_count": 22,
     "metadata": {},
     "output_type": "execute_result"
    }
   ],
   "source": [
    "# I will exclude one of them in the regression\n",
    "# each country column is a linear function of the other two \n",
    "df2.drop('group_control', axis = 1, inplace = True)\n",
    "df2.rename(columns={'group_treatment' : 'treatment'}, inplace = True)\n",
    "df2.head()"
   ]
  },
  {
   "cell_type": "code",
   "execution_count": 23,
   "metadata": {},
   "outputs": [
    {
     "name": "stdout",
     "output_type": "stream",
     "text": [
      "Optimization terminated successfully.\n",
      "         Current function value: 0.366118\n",
      "         Iterations 6\n"
     ]
    },
    {
     "data": {
      "text/html": [
       "<table class=\"simpletable\">\n",
       "<caption>Logit Regression Results</caption>\n",
       "<tr>\n",
       "  <th>Dep. Variable:</th>       <td>converted</td>    <th>  No. Observations:  </th>   <td>290584</td>   \n",
       "</tr>\n",
       "<tr>\n",
       "  <th>Model:</th>                 <td>Logit</td>      <th>  Df Residuals:      </th>   <td>290582</td>   \n",
       "</tr>\n",
       "<tr>\n",
       "  <th>Method:</th>                 <td>MLE</td>       <th>  Df Model:          </th>   <td>     1</td>   \n",
       "</tr>\n",
       "<tr>\n",
       "  <th>Date:</th>            <td>Tue, 28 Jul 2020</td> <th>  Pseudo R-squ.:     </th>  <td>8.077e-06</td> \n",
       "</tr>\n",
       "<tr>\n",
       "  <th>Time:</th>                <td>01:40:34</td>     <th>  Log-Likelihood:    </th> <td>-1.0639e+05</td>\n",
       "</tr>\n",
       "<tr>\n",
       "  <th>converged:</th>             <td>True</td>       <th>  LL-Null:           </th> <td>-1.0639e+05</td>\n",
       "</tr>\n",
       "<tr>\n",
       "  <th>Covariance Type:</th>     <td>nonrobust</td>    <th>  LLR p-value:       </th>   <td>0.1899</td>   \n",
       "</tr>\n",
       "</table>\n",
       "<table class=\"simpletable\">\n",
       "<tr>\n",
       "      <td></td>         <th>coef</th>     <th>std err</th>      <th>z</th>      <th>P>|z|</th>  <th>[0.025</th>    <th>0.975]</th>  \n",
       "</tr>\n",
       "<tr>\n",
       "  <th>Intercept</th> <td>   -1.9888</td> <td>    0.008</td> <td> -246.669</td> <td> 0.000</td> <td>   -2.005</td> <td>   -1.973</td>\n",
       "</tr>\n",
       "<tr>\n",
       "  <th>treatment</th> <td>   -0.0150</td> <td>    0.011</td> <td>   -1.311</td> <td> 0.190</td> <td>   -0.037</td> <td>    0.007</td>\n",
       "</tr>\n",
       "</table>"
      ],
      "text/plain": [
       "<class 'statsmodels.iolib.summary.Summary'>\n",
       "\"\"\"\n",
       "                           Logit Regression Results                           \n",
       "==============================================================================\n",
       "Dep. Variable:              converted   No. Observations:               290584\n",
       "Model:                          Logit   Df Residuals:                   290582\n",
       "Method:                           MLE   Df Model:                            1\n",
       "Date:                Tue, 28 Jul 2020   Pseudo R-squ.:               8.077e-06\n",
       "Time:                        01:40:34   Log-Likelihood:            -1.0639e+05\n",
       "converged:                       True   LL-Null:                   -1.0639e+05\n",
       "Covariance Type:            nonrobust   LLR p-value:                    0.1899\n",
       "==============================================================================\n",
       "                 coef    std err          z      P>|z|      [0.025      0.975]\n",
       "------------------------------------------------------------------------------\n",
       "Intercept     -1.9888      0.008   -246.669      0.000      -2.005      -1.973\n",
       "treatment     -0.0150      0.011     -1.311      0.190      -0.037       0.007\n",
       "==============================================================================\n",
       "\"\"\""
      ]
     },
     "execution_count": 23,
     "metadata": {},
     "output_type": "execute_result"
    }
   ],
   "source": [
    "# model with treatment as the single variable, note that the LLR p-value is same as the p-value of the 2-sided test earlier\n",
    "model = sm.Logit.from_formula('converted ~ treatment', data = df2).fit()\n",
    "model.summary()"
   ]
  },
  {
   "cell_type": "code",
   "execution_count": 24,
   "metadata": {},
   "outputs": [
    {
     "name": "stdout",
     "output_type": "stream",
     "text": [
      "Optimization terminated successfully.\n",
      "         Current function value: 0.366109\n",
      "         Iterations 6\n"
     ]
    },
    {
     "data": {
      "text/html": [
       "<table class=\"simpletable\">\n",
       "<caption>Logit Regression Results</caption>\n",
       "<tr>\n",
       "  <th>Dep. Variable:</th>       <td>converted</td>    <th>  No. Observations:  </th>   <td>290584</td>   \n",
       "</tr>\n",
       "<tr>\n",
       "  <th>Model:</th>                 <td>Logit</td>      <th>  Df Residuals:      </th>   <td>290578</td>   \n",
       "</tr>\n",
       "<tr>\n",
       "  <th>Method:</th>                 <td>MLE</td>       <th>  Df Model:          </th>   <td>     5</td>   \n",
       "</tr>\n",
       "<tr>\n",
       "  <th>Date:</th>            <td>Tue, 28 Jul 2020</td> <th>  Pseudo R-squ.:     </th>  <td>3.482e-05</td> \n",
       "</tr>\n",
       "<tr>\n",
       "  <th>Time:</th>                <td>01:40:36</td>     <th>  Log-Likelihood:    </th> <td>-1.0639e+05</td>\n",
       "</tr>\n",
       "<tr>\n",
       "  <th>converged:</th>             <td>True</td>       <th>  LL-Null:           </th> <td>-1.0639e+05</td>\n",
       "</tr>\n",
       "<tr>\n",
       "  <th>Covariance Type:</th>     <td>nonrobust</td>    <th>  LLR p-value:       </th>   <td>0.1920</td>   \n",
       "</tr>\n",
       "</table>\n",
       "<table class=\"simpletable\">\n",
       "<tr>\n",
       "            <td></td>              <th>coef</th>     <th>std err</th>      <th>z</th>      <th>P>|z|</th>  <th>[0.025</th>    <th>0.975]</th>  \n",
       "</tr>\n",
       "<tr>\n",
       "  <th>Intercept</th>            <td>   -2.0040</td> <td>    0.036</td> <td>  -55.008</td> <td> 0.000</td> <td>   -2.075</td> <td>   -1.933</td>\n",
       "</tr>\n",
       "<tr>\n",
       "  <th>treatment</th>            <td>   -0.0674</td> <td>    0.052</td> <td>   -1.297</td> <td> 0.195</td> <td>   -0.169</td> <td>    0.034</td>\n",
       "</tr>\n",
       "<tr>\n",
       "  <th>country_UK</th>           <td>    0.0118</td> <td>    0.040</td> <td>    0.296</td> <td> 0.767</td> <td>   -0.066</td> <td>    0.090</td>\n",
       "</tr>\n",
       "<tr>\n",
       "  <th>country_US</th>           <td>    0.0175</td> <td>    0.038</td> <td>    0.465</td> <td> 0.642</td> <td>   -0.056</td> <td>    0.091</td>\n",
       "</tr>\n",
       "<tr>\n",
       "  <th>treatment:country_UK</th> <td>    0.0783</td> <td>    0.057</td> <td>    1.378</td> <td> 0.168</td> <td>   -0.033</td> <td>    0.190</td>\n",
       "</tr>\n",
       "<tr>\n",
       "  <th>treatment:country_US</th> <td>    0.0469</td> <td>    0.054</td> <td>    0.872</td> <td> 0.383</td> <td>   -0.059</td> <td>    0.152</td>\n",
       "</tr>\n",
       "</table>"
      ],
      "text/plain": [
       "<class 'statsmodels.iolib.summary.Summary'>\n",
       "\"\"\"\n",
       "                           Logit Regression Results                           \n",
       "==============================================================================\n",
       "Dep. Variable:              converted   No. Observations:               290584\n",
       "Model:                          Logit   Df Residuals:                   290578\n",
       "Method:                           MLE   Df Model:                            5\n",
       "Date:                Tue, 28 Jul 2020   Pseudo R-squ.:               3.482e-05\n",
       "Time:                        01:40:36   Log-Likelihood:            -1.0639e+05\n",
       "converged:                       True   LL-Null:                   -1.0639e+05\n",
       "Covariance Type:            nonrobust   LLR p-value:                    0.1920\n",
       "========================================================================================\n",
       "                           coef    std err          z      P>|z|      [0.025      0.975]\n",
       "----------------------------------------------------------------------------------------\n",
       "Intercept               -2.0040      0.036    -55.008      0.000      -2.075      -1.933\n",
       "treatment               -0.0674      0.052     -1.297      0.195      -0.169       0.034\n",
       "country_UK               0.0118      0.040      0.296      0.767      -0.066       0.090\n",
       "country_US               0.0175      0.038      0.465      0.642      -0.056       0.091\n",
       "treatment:country_UK     0.0783      0.057      1.378      0.168      -0.033       0.190\n",
       "treatment:country_US     0.0469      0.054      0.872      0.383      -0.059       0.152\n",
       "========================================================================================\n",
       "\"\"\""
      ]
     },
     "execution_count": 24,
     "metadata": {},
     "output_type": "execute_result"
    }
   ],
   "source": [
    "# adding covariate to the model and interaction terms\n",
    "# I have added two of three country columns to keep the features linearly independent\n",
    "model3 = sm.Logit.from_formula('converted ~ treatment + country_UK + country_US + \\\n",
    "                               treatment * country_UK + treatment * country_US', data = df2).fit()\n",
    "model3.summary()"
   ]
  }
 ],
 "metadata": {
  "kernelspec": {
   "display_name": "Python 3",
   "language": "python",
   "name": "python3"
  },
  "language_info": {
   "codemirror_mode": {
    "name": "ipython",
    "version": 3
   },
   "file_extension": ".py",
   "mimetype": "text/x-python",
   "name": "python",
   "nbconvert_exporter": "python",
   "pygments_lexer": "ipython3",
   "version": "3.6.4"
  }
 },
 "nbformat": 4,
 "nbformat_minor": 2
}
